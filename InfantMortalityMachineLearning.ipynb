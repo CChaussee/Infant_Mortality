{
  "nbformat": 4,
  "nbformat_minor": 0,
  "metadata": {
    "colab": {
      "name": "InfantMortalityMachineLearning.ipynb",
      "provenance": [],
      "collapsed_sections": []
    },
    "kernelspec": {
      "name": "python3",
      "display_name": "Python 3"
    },
    "language_info": {
      "name": "python"
    }
  },
  "cells": [
    {
      "cell_type": "markdown",
      "metadata": {
        "id": "tG6IOji2GWm7"
      },
      "source": [
        "# Infant Mortality Rate Analysis\n",
        "## Background \n",
        "Studying infant mortality rates based on socio-economic factors and immutable characteristics\n",
        "\n",
        "\n",
        "\n"
      ]
    },
    {
      "cell_type": "code",
      "metadata": {
        "id": "P0PnXPqyc9yu"
      },
      "source": [
        "\n",
        "import pandas as pd\n",
        "from sklearn.preprocessing import LabelEncoder\n"
      ],
      "execution_count": null,
      "outputs": []
    },
    {
      "cell_type": "markdown",
      "metadata": {
        "id": "UA2e3MjvI0Cq"
      },
      "source": [
        "## Exploratory Data Analysis "
      ]
    },
    {
      "cell_type": "code",
      "metadata": {
        "id": "8mnMP08XMyRN"
      },
      "source": [
        "infant_mortality=\"/content/drive/MyDrive/data/infant_mortality (1).csv\""
      ],
      "execution_count": null,
      "outputs": []
    },
    {
      "cell_type": "code",
      "metadata": {
        "id": "4MQkqE5NNL1y"
      },
      "source": [
        "df=pd.read_csv(infant_mortality)"
      ],
      "execution_count": null,
      "outputs": []
    },
    {
      "cell_type": "code",
      "metadata": {
        "colab": {
          "base_uri": "https://localhost:8080/",
          "height": 379
        },
        "id": "FXcpQemNNhXI",
        "outputId": "39ab7406-51d2-4306-9e8e-21519bd215f0"
      },
      "source": [
        "df.head(10)"
      ],
      "execution_count": null,
      "outputs": [
        {
          "output_type": "execute_result",
          "data": {
            "text/html": [
              "<div>\n",
              "<style scoped>\n",
              "    .dataframe tbody tr th:only-of-type {\n",
              "        vertical-align: middle;\n",
              "    }\n",
              "\n",
              "    .dataframe tbody tr th {\n",
              "        vertical-align: top;\n",
              "    }\n",
              "\n",
              "    .dataframe thead th {\n",
              "        text-align: right;\n",
              "    }\n",
              "</style>\n",
              "<table border=\"1\" class=\"dataframe\">\n",
              "  <thead>\n",
              "    <tr style=\"text-align: right;\">\n",
              "      <th></th>\n",
              "      <th>Year</th>\n",
              "      <th>State</th>\n",
              "      <th>Rate</th>\n",
              "      <th>Deaths</th>\n",
              "      <th>Name</th>\n",
              "      <th>Population</th>\n",
              "      <th>PovertyCount</th>\n",
              "      <th>PovertyRate</th>\n",
              "      <th>UnemploymentRate</th>\n",
              "      <th>NoCompletedEducation</th>\n",
              "      <th>PopulationWithHighSchoolDiploma</th>\n",
              "      <th>PopulationWithAssociatesDegree</th>\n",
              "      <th>PopulationWithBachelorsDegree</th>\n",
              "      <th>WhitePop</th>\n",
              "      <th>BlackPop</th>\n",
              "      <th>NativeAmericanPop</th>\n",
              "      <th>AsianPop</th>\n",
              "      <th>NativeHawaiianPop</th>\n",
              "      <th>HispanicPop</th>\n",
              "      <th>TwoOrMoreRacesPop</th>\n",
              "    </tr>\n",
              "  </thead>\n",
              "  <tbody>\n",
              "    <tr>\n",
              "      <th>0</th>\n",
              "      <td>2019</td>\n",
              "      <td>AL</td>\n",
              "      <td>7.89</td>\n",
              "      <td>449</td>\n",
              "      <td>Alabama</td>\n",
              "      <td>4876250.0</td>\n",
              "      <td>795989.0</td>\n",
              "      <td>16.323794</td>\n",
              "      <td>2.708946</td>\n",
              "      <td>40837.0</td>\n",
              "      <td>841716.0</td>\n",
              "      <td>282316.0</td>\n",
              "      <td>529178.0</td>\n",
              "      <td>3320247.0</td>\n",
              "      <td>1299048.0</td>\n",
              "      <td>25565.0</td>\n",
              "      <td>66270.0</td>\n",
              "      <td>2238.0</td>\n",
              "      <td>208626.0</td>\n",
              "      <td>92220.0</td>\n",
              "    </tr>\n",
              "    <tr>\n",
              "      <th>1</th>\n",
              "      <td>2018</td>\n",
              "      <td>AL</td>\n",
              "      <td>6.94</td>\n",
              "      <td>401</td>\n",
              "      <td>Alabama</td>\n",
              "      <td>4864680.0</td>\n",
              "      <td>829400.0</td>\n",
              "      <td>17.049426</td>\n",
              "      <td>3.040241</td>\n",
              "      <td>41240.0</td>\n",
              "      <td>838776.0</td>\n",
              "      <td>273493.0</td>\n",
              "      <td>515443.0</td>\n",
              "      <td>3317453.0</td>\n",
              "      <td>1293186.0</td>\n",
              "      <td>25576.0</td>\n",
              "      <td>64609.0</td>\n",
              "      <td>2182.0</td>\n",
              "      <td>203146.0</td>\n",
              "      <td>91619.0</td>\n",
              "    </tr>\n",
              "    <tr>\n",
              "      <th>2</th>\n",
              "      <td>2017</td>\n",
              "      <td>AL</td>\n",
              "      <td>7.38</td>\n",
              "      <td>435</td>\n",
              "      <td>Alabama</td>\n",
              "      <td>4864680.0</td>\n",
              "      <td>829400.0</td>\n",
              "      <td>17.049426</td>\n",
              "      <td>3.040241</td>\n",
              "      <td>41240.0</td>\n",
              "      <td>838776.0</td>\n",
              "      <td>273493.0</td>\n",
              "      <td>515443.0</td>\n",
              "      <td>3317453.0</td>\n",
              "      <td>1293186.0</td>\n",
              "      <td>25576.0</td>\n",
              "      <td>64609.0</td>\n",
              "      <td>2182.0</td>\n",
              "      <td>203146.0</td>\n",
              "      <td>91619.0</td>\n",
              "    </tr>\n",
              "    <tr>\n",
              "      <th>3</th>\n",
              "      <td>2016</td>\n",
              "      <td>AL</td>\n",
              "      <td>9.03</td>\n",
              "      <td>534</td>\n",
              "      <td>Alabama</td>\n",
              "      <td>4841164.0</td>\n",
              "      <td>868666.0</td>\n",
              "      <td>17.943329</td>\n",
              "      <td>3.810633</td>\n",
              "      <td>42577.0</td>\n",
              "      <td>828205.0</td>\n",
              "      <td>258502.0</td>\n",
              "      <td>492382.0</td>\n",
              "      <td>3325037.0</td>\n",
              "      <td>1282053.0</td>\n",
              "      <td>23919.0</td>\n",
              "      <td>60744.0</td>\n",
              "      <td>2008.0</td>\n",
              "      <td>193503.0</td>\n",
              "      <td>85412.0</td>\n",
              "    </tr>\n",
              "    <tr>\n",
              "      <th>4</th>\n",
              "      <td>2015</td>\n",
              "      <td>AL</td>\n",
              "      <td>8.31</td>\n",
              "      <td>496</td>\n",
              "      <td>Alabama</td>\n",
              "      <td>4830620.0</td>\n",
              "      <td>887260.0</td>\n",
              "      <td>18.367415</td>\n",
              "      <td>4.287172</td>\n",
              "      <td>41876.0</td>\n",
              "      <td>826272.0</td>\n",
              "      <td>251335.0</td>\n",
              "      <td>478812.0</td>\n",
              "      <td>3325464.0</td>\n",
              "      <td>1276544.0</td>\n",
              "      <td>23850.0</td>\n",
              "      <td>59599.0</td>\n",
              "      <td>2439.0</td>\n",
              "      <td>193492.0</td>\n",
              "      <td>81646.0</td>\n",
              "    </tr>\n",
              "    <tr>\n",
              "      <th>5</th>\n",
              "      <td>2019</td>\n",
              "      <td>AK</td>\n",
              "      <td>4.81</td>\n",
              "      <td>48</td>\n",
              "      <td>Alaska</td>\n",
              "      <td>737068.0</td>\n",
              "      <td>76933.0</td>\n",
              "      <td>10.437707</td>\n",
              "      <td>3.637114</td>\n",
              "      <td>3434.0</td>\n",
              "      <td>108797.0</td>\n",
              "      <td>41109.0</td>\n",
              "      <td>88058.0</td>\n",
              "      <td>476015.0</td>\n",
              "      <td>24205.0</td>\n",
              "      <td>109751.0</td>\n",
              "      <td>45920.0</td>\n",
              "      <td>9204.0</td>\n",
              "      <td>51870.0</td>\n",
              "      <td>60665.0</td>\n",
              "    </tr>\n",
              "    <tr>\n",
              "      <th>6</th>\n",
              "      <td>2018</td>\n",
              "      <td>AK</td>\n",
              "      <td>6.25</td>\n",
              "      <td>63</td>\n",
              "      <td>Alaska</td>\n",
              "      <td>738516.0</td>\n",
              "      <td>77865.0</td>\n",
              "      <td>10.543441</td>\n",
              "      <td>3.800459</td>\n",
              "      <td>3479.0</td>\n",
              "      <td>107913.0</td>\n",
              "      <td>40052.0</td>\n",
              "      <td>88053.0</td>\n",
              "      <td>478834.0</td>\n",
              "      <td>24129.0</td>\n",
              "      <td>106660.0</td>\n",
              "      <td>46556.0</td>\n",
              "      <td>8849.0</td>\n",
              "      <td>51186.0</td>\n",
              "      <td>62461.0</td>\n",
              "    </tr>\n",
              "    <tr>\n",
              "      <th>7</th>\n",
              "      <td>2017</td>\n",
              "      <td>AK</td>\n",
              "      <td>5.74</td>\n",
              "      <td>60</td>\n",
              "      <td>Alaska</td>\n",
              "      <td>738516.0</td>\n",
              "      <td>77865.0</td>\n",
              "      <td>10.543441</td>\n",
              "      <td>3.800459</td>\n",
              "      <td>3479.0</td>\n",
              "      <td>107913.0</td>\n",
              "      <td>40052.0</td>\n",
              "      <td>88053.0</td>\n",
              "      <td>478834.0</td>\n",
              "      <td>24129.0</td>\n",
              "      <td>106660.0</td>\n",
              "      <td>46556.0</td>\n",
              "      <td>8849.0</td>\n",
              "      <td>51186.0</td>\n",
              "      <td>62461.0</td>\n",
              "    </tr>\n",
              "    <tr>\n",
              "      <th>8</th>\n",
              "      <td>2016</td>\n",
              "      <td>AK</td>\n",
              "      <td>5.17</td>\n",
              "      <td>58</td>\n",
              "      <td>Alaska</td>\n",
              "      <td>736855.0</td>\n",
              "      <td>72826.0</td>\n",
              "      <td>9.883356</td>\n",
              "      <td>4.090221</td>\n",
              "      <td>3020.0</td>\n",
              "      <td>106169.0</td>\n",
              "      <td>39133.0</td>\n",
              "      <td>86551.0</td>\n",
              "      <td>483518.0</td>\n",
              "      <td>24443.0</td>\n",
              "      <td>103574.0</td>\n",
              "      <td>44218.0</td>\n",
              "      <td>8862.0</td>\n",
              "      <td>49031.0</td>\n",
              "      <td>62340.0</td>\n",
              "    </tr>\n",
              "    <tr>\n",
              "      <th>9</th>\n",
              "      <td>2015</td>\n",
              "      <td>AK</td>\n",
              "      <td>6.91</td>\n",
              "      <td>78</td>\n",
              "      <td>Alaska</td>\n",
              "      <td>733375.0</td>\n",
              "      <td>72957.0</td>\n",
              "      <td>9.948117</td>\n",
              "      <td>4.265894</td>\n",
              "      <td>2977.0</td>\n",
              "      <td>105527.0</td>\n",
              "      <td>37719.0</td>\n",
              "      <td>83201.0</td>\n",
              "      <td>484250.0</td>\n",
              "      <td>25022.0</td>\n",
              "      <td>101313.0</td>\n",
              "      <td>42921.0</td>\n",
              "      <td>8841.0</td>\n",
              "      <td>47808.0</td>\n",
              "      <td>61755.0</td>\n",
              "    </tr>\n",
              "  </tbody>\n",
              "</table>\n",
              "</div>"
            ],
            "text/plain": [
              "   Year State  Rate  ...  NativeHawaiianPop HispanicPop  TwoOrMoreRacesPop\n",
              "0  2019    AL  7.89  ...             2238.0    208626.0            92220.0\n",
              "1  2018    AL  6.94  ...             2182.0    203146.0            91619.0\n",
              "2  2017    AL  7.38  ...             2182.0    203146.0            91619.0\n",
              "3  2016    AL  9.03  ...             2008.0    193503.0            85412.0\n",
              "4  2015    AL  8.31  ...             2439.0    193492.0            81646.0\n",
              "5  2019    AK  4.81  ...             9204.0     51870.0            60665.0\n",
              "6  2018    AK  6.25  ...             8849.0     51186.0            62461.0\n",
              "7  2017    AK  5.74  ...             8849.0     51186.0            62461.0\n",
              "8  2016    AK  5.17  ...             8862.0     49031.0            62340.0\n",
              "9  2015    AK  6.91  ...             8841.0     47808.0            61755.0\n",
              "\n",
              "[10 rows x 20 columns]"
            ]
          },
          "metadata": {
            "tags": []
          },
          "execution_count": 4
        }
      ]
    },
    {
      "cell_type": "code",
      "metadata": {
        "colab": {
          "base_uri": "https://localhost:8080/"
        },
        "id": "pEBwKInmVu10",
        "outputId": "74172ca6-22a5-460d-abe0-7dfce3447bb5"
      },
      "source": [
        "(df.Rate==\"Unreliable\").value_counts()"
      ],
      "execution_count": null,
      "outputs": [
        {
          "output_type": "execute_result",
          "data": {
            "text/plain": [
              "False    249\n",
              "True       1\n",
              "Name: Rate, dtype: int64"
            ]
          },
          "metadata": {
            "tags": []
          },
          "execution_count": 5
        }
      ]
    },
    {
      "cell_type": "code",
      "metadata": {
        "id": "tJfOwX1hWfNe",
        "colab": {
          "base_uri": "https://localhost:8080/",
          "height": 100
        },
        "outputId": "5e22a1cc-ffdb-4cd2-e1d2-c78a37f4b111"
      },
      "source": [
        "df.loc[(df.Name==\"Vermont\")&(df.Year==2019)]"
      ],
      "execution_count": null,
      "outputs": [
        {
          "output_type": "execute_result",
          "data": {
            "text/html": [
              "<div>\n",
              "<style scoped>\n",
              "    .dataframe tbody tr th:only-of-type {\n",
              "        vertical-align: middle;\n",
              "    }\n",
              "\n",
              "    .dataframe tbody tr th {\n",
              "        vertical-align: top;\n",
              "    }\n",
              "\n",
              "    .dataframe thead th {\n",
              "        text-align: right;\n",
              "    }\n",
              "</style>\n",
              "<table border=\"1\" class=\"dataframe\">\n",
              "  <thead>\n",
              "    <tr style=\"text-align: right;\">\n",
              "      <th></th>\n",
              "      <th>Year</th>\n",
              "      <th>State</th>\n",
              "      <th>Rate</th>\n",
              "      <th>Deaths</th>\n",
              "      <th>Name</th>\n",
              "      <th>Population</th>\n",
              "      <th>PovertyCount</th>\n",
              "      <th>PovertyRate</th>\n",
              "      <th>UnemploymentRate</th>\n",
              "      <th>NoCompletedEducation</th>\n",
              "      <th>PopulationWithHighSchoolDiploma</th>\n",
              "      <th>PopulationWithAssociatesDegree</th>\n",
              "      <th>PopulationWithBachelorsDegree</th>\n",
              "      <th>WhitePop</th>\n",
              "      <th>BlackPop</th>\n",
              "      <th>NativeAmericanPop</th>\n",
              "      <th>AsianPop</th>\n",
              "      <th>NativeHawaiianPop</th>\n",
              "      <th>HispanicPop</th>\n",
              "      <th>TwoOrMoreRacesPop</th>\n",
              "    </tr>\n",
              "  </thead>\n",
              "  <tbody>\n",
              "    <tr>\n",
              "      <th>220</th>\n",
              "      <td>2019</td>\n",
              "      <td>VT</td>\n",
              "      <td>Unreliable</td>\n",
              "      <td>15</td>\n",
              "      <td>Vermont</td>\n",
              "      <td>624313.0</td>\n",
              "      <td>65652.0</td>\n",
              "      <td>10.515879</td>\n",
              "      <td>1.97385</td>\n",
              "      <td>2715.0</td>\n",
              "      <td>111530.0</td>\n",
              "      <td>38518.0</td>\n",
              "      <td>99016.0</td>\n",
              "      <td>587883.0</td>\n",
              "      <td>8502.0</td>\n",
              "      <td>2132.0</td>\n",
              "      <td>10461.0</td>\n",
              "      <td>325.0</td>\n",
              "      <td>12038.0</td>\n",
              "      <td>12600.0</td>\n",
              "    </tr>\n",
              "  </tbody>\n",
              "</table>\n",
              "</div>"
            ],
            "text/plain": [
              "     Year State        Rate  ...  NativeHawaiianPop HispanicPop  TwoOrMoreRacesPop\n",
              "220  2019    VT  Unreliable  ...              325.0     12038.0            12600.0\n",
              "\n",
              "[1 rows x 20 columns]"
            ]
          },
          "metadata": {
            "tags": []
          },
          "execution_count": 6
        }
      ]
    },
    {
      "cell_type": "code",
      "metadata": {
        "id": "4OIPCd0dpqZV"
      },
      "source": [
        "df.at[220,\"Rate\"]=3"
      ],
      "execution_count": null,
      "outputs": []
    },
    {
      "cell_type": "code",
      "metadata": {
        "colab": {
          "base_uri": "https://localhost:8080/"
        },
        "id": "96u7mfNKNqpf",
        "outputId": "fe1d8a82-b95c-44f4-ed8f-3d54d928ea57"
      },
      "source": [
        "df.columns"
      ],
      "execution_count": null,
      "outputs": [
        {
          "output_type": "execute_result",
          "data": {
            "text/plain": [
              "Index(['Year', 'State', 'Rate', 'Deaths', 'Name', 'Population', 'PovertyCount',\n",
              "       'PovertyRate', 'UnemploymentRate', 'NoCompletedEducation',\n",
              "       'PopulationWithHighSchoolDiploma', 'PopulationWithAssociatesDegree',\n",
              "       'PopulationWithBachelorsDegree', 'WhitePop', 'BlackPop',\n",
              "       'NativeAmericanPop', 'AsianPop', 'NativeHawaiianPop', 'HispanicPop',\n",
              "       'TwoOrMoreRacesPop'],\n",
              "      dtype='object')"
            ]
          },
          "metadata": {
            "tags": []
          },
          "execution_count": 8
        }
      ]
    },
    {
      "cell_type": "code",
      "metadata": {
        "id": "uPndHfTqObGo"
      },
      "source": [
        "y=df[[\"Rate\"]]"
      ],
      "execution_count": null,
      "outputs": []
    },
    {
      "cell_type": "code",
      "metadata": {
        "id": "q7vmLhp7PY0Y"
      },
      "source": [
        "# We dropped the columns \"Name, \"Rate\" and \"Deaths\" because rate is the target variable. Name was in there twice, and we dropped deaths because its perfectly correlated with the rate.\n",
        "X=df.drop(columns=[\"Name\", \"Rate\", \"Deaths\",])"
      ],
      "execution_count": null,
      "outputs": []
    },
    {
      "cell_type": "code",
      "metadata": {
        "colab": {
          "base_uri": "https://localhost:8080/",
          "height": 224
        },
        "id": "ldXwv08ES7sz",
        "outputId": "e7c204b2-3abf-449a-dfa1-a64769b4532a"
      },
      "source": [
        "X.head()"
      ],
      "execution_count": null,
      "outputs": [
        {
          "output_type": "execute_result",
          "data": {
            "text/html": [
              "<div>\n",
              "<style scoped>\n",
              "    .dataframe tbody tr th:only-of-type {\n",
              "        vertical-align: middle;\n",
              "    }\n",
              "\n",
              "    .dataframe tbody tr th {\n",
              "        vertical-align: top;\n",
              "    }\n",
              "\n",
              "    .dataframe thead th {\n",
              "        text-align: right;\n",
              "    }\n",
              "</style>\n",
              "<table border=\"1\" class=\"dataframe\">\n",
              "  <thead>\n",
              "    <tr style=\"text-align: right;\">\n",
              "      <th></th>\n",
              "      <th>Year</th>\n",
              "      <th>State</th>\n",
              "      <th>Population</th>\n",
              "      <th>PovertyCount</th>\n",
              "      <th>PovertyRate</th>\n",
              "      <th>UnemploymentRate</th>\n",
              "      <th>NoCompletedEducation</th>\n",
              "      <th>PopulationWithHighSchoolDiploma</th>\n",
              "      <th>PopulationWithAssociatesDegree</th>\n",
              "      <th>PopulationWithBachelorsDegree</th>\n",
              "      <th>WhitePop</th>\n",
              "      <th>BlackPop</th>\n",
              "      <th>NativeAmericanPop</th>\n",
              "      <th>AsianPop</th>\n",
              "      <th>NativeHawaiianPop</th>\n",
              "      <th>HispanicPop</th>\n",
              "      <th>TwoOrMoreRacesPop</th>\n",
              "    </tr>\n",
              "  </thead>\n",
              "  <tbody>\n",
              "    <tr>\n",
              "      <th>0</th>\n",
              "      <td>2019</td>\n",
              "      <td>AL</td>\n",
              "      <td>4876250.0</td>\n",
              "      <td>795989.0</td>\n",
              "      <td>16.323794</td>\n",
              "      <td>2.708946</td>\n",
              "      <td>40837.0</td>\n",
              "      <td>841716.0</td>\n",
              "      <td>282316.0</td>\n",
              "      <td>529178.0</td>\n",
              "      <td>3320247.0</td>\n",
              "      <td>1299048.0</td>\n",
              "      <td>25565.0</td>\n",
              "      <td>66270.0</td>\n",
              "      <td>2238.0</td>\n",
              "      <td>208626.0</td>\n",
              "      <td>92220.0</td>\n",
              "    </tr>\n",
              "    <tr>\n",
              "      <th>1</th>\n",
              "      <td>2018</td>\n",
              "      <td>AL</td>\n",
              "      <td>4864680.0</td>\n",
              "      <td>829400.0</td>\n",
              "      <td>17.049426</td>\n",
              "      <td>3.040241</td>\n",
              "      <td>41240.0</td>\n",
              "      <td>838776.0</td>\n",
              "      <td>273493.0</td>\n",
              "      <td>515443.0</td>\n",
              "      <td>3317453.0</td>\n",
              "      <td>1293186.0</td>\n",
              "      <td>25576.0</td>\n",
              "      <td>64609.0</td>\n",
              "      <td>2182.0</td>\n",
              "      <td>203146.0</td>\n",
              "      <td>91619.0</td>\n",
              "    </tr>\n",
              "    <tr>\n",
              "      <th>2</th>\n",
              "      <td>2017</td>\n",
              "      <td>AL</td>\n",
              "      <td>4864680.0</td>\n",
              "      <td>829400.0</td>\n",
              "      <td>17.049426</td>\n",
              "      <td>3.040241</td>\n",
              "      <td>41240.0</td>\n",
              "      <td>838776.0</td>\n",
              "      <td>273493.0</td>\n",
              "      <td>515443.0</td>\n",
              "      <td>3317453.0</td>\n",
              "      <td>1293186.0</td>\n",
              "      <td>25576.0</td>\n",
              "      <td>64609.0</td>\n",
              "      <td>2182.0</td>\n",
              "      <td>203146.0</td>\n",
              "      <td>91619.0</td>\n",
              "    </tr>\n",
              "    <tr>\n",
              "      <th>3</th>\n",
              "      <td>2016</td>\n",
              "      <td>AL</td>\n",
              "      <td>4841164.0</td>\n",
              "      <td>868666.0</td>\n",
              "      <td>17.943329</td>\n",
              "      <td>3.810633</td>\n",
              "      <td>42577.0</td>\n",
              "      <td>828205.0</td>\n",
              "      <td>258502.0</td>\n",
              "      <td>492382.0</td>\n",
              "      <td>3325037.0</td>\n",
              "      <td>1282053.0</td>\n",
              "      <td>23919.0</td>\n",
              "      <td>60744.0</td>\n",
              "      <td>2008.0</td>\n",
              "      <td>193503.0</td>\n",
              "      <td>85412.0</td>\n",
              "    </tr>\n",
              "    <tr>\n",
              "      <th>4</th>\n",
              "      <td>2015</td>\n",
              "      <td>AL</td>\n",
              "      <td>4830620.0</td>\n",
              "      <td>887260.0</td>\n",
              "      <td>18.367415</td>\n",
              "      <td>4.287172</td>\n",
              "      <td>41876.0</td>\n",
              "      <td>826272.0</td>\n",
              "      <td>251335.0</td>\n",
              "      <td>478812.0</td>\n",
              "      <td>3325464.0</td>\n",
              "      <td>1276544.0</td>\n",
              "      <td>23850.0</td>\n",
              "      <td>59599.0</td>\n",
              "      <td>2439.0</td>\n",
              "      <td>193492.0</td>\n",
              "      <td>81646.0</td>\n",
              "    </tr>\n",
              "  </tbody>\n",
              "</table>\n",
              "</div>"
            ],
            "text/plain": [
              "   Year State  Population  ...  NativeHawaiianPop  HispanicPop  TwoOrMoreRacesPop\n",
              "0  2019    AL   4876250.0  ...             2238.0     208626.0            92220.0\n",
              "1  2018    AL   4864680.0  ...             2182.0     203146.0            91619.0\n",
              "2  2017    AL   4864680.0  ...             2182.0     203146.0            91619.0\n",
              "3  2016    AL   4841164.0  ...             2008.0     193503.0            85412.0\n",
              "4  2015    AL   4830620.0  ...             2439.0     193492.0            81646.0\n",
              "\n",
              "[5 rows x 17 columns]"
            ]
          },
          "metadata": {
            "tags": []
          },
          "execution_count": 11
        }
      ]
    },
    {
      "cell_type": "code",
      "metadata": {
        "colab": {
          "base_uri": "https://localhost:8080/",
          "height": 224
        },
        "id": "EZHcUAUGPgbW",
        "outputId": "d658d40e-0a83-4eae-cf00-28a61013f715"
      },
      "source": [
        "X.head()"
      ],
      "execution_count": null,
      "outputs": [
        {
          "output_type": "execute_result",
          "data": {
            "text/html": [
              "<div>\n",
              "<style scoped>\n",
              "    .dataframe tbody tr th:only-of-type {\n",
              "        vertical-align: middle;\n",
              "    }\n",
              "\n",
              "    .dataframe tbody tr th {\n",
              "        vertical-align: top;\n",
              "    }\n",
              "\n",
              "    .dataframe thead th {\n",
              "        text-align: right;\n",
              "    }\n",
              "</style>\n",
              "<table border=\"1\" class=\"dataframe\">\n",
              "  <thead>\n",
              "    <tr style=\"text-align: right;\">\n",
              "      <th></th>\n",
              "      <th>Year</th>\n",
              "      <th>State</th>\n",
              "      <th>Population</th>\n",
              "      <th>PovertyCount</th>\n",
              "      <th>PovertyRate</th>\n",
              "      <th>UnemploymentRate</th>\n",
              "      <th>NoCompletedEducation</th>\n",
              "      <th>PopulationWithHighSchoolDiploma</th>\n",
              "      <th>PopulationWithAssociatesDegree</th>\n",
              "      <th>PopulationWithBachelorsDegree</th>\n",
              "      <th>WhitePop</th>\n",
              "      <th>BlackPop</th>\n",
              "      <th>NativeAmericanPop</th>\n",
              "      <th>AsianPop</th>\n",
              "      <th>NativeHawaiianPop</th>\n",
              "      <th>HispanicPop</th>\n",
              "      <th>TwoOrMoreRacesPop</th>\n",
              "    </tr>\n",
              "  </thead>\n",
              "  <tbody>\n",
              "    <tr>\n",
              "      <th>0</th>\n",
              "      <td>2019</td>\n",
              "      <td>AL</td>\n",
              "      <td>4876250.0</td>\n",
              "      <td>795989.0</td>\n",
              "      <td>16.323794</td>\n",
              "      <td>2.708946</td>\n",
              "      <td>40837.0</td>\n",
              "      <td>841716.0</td>\n",
              "      <td>282316.0</td>\n",
              "      <td>529178.0</td>\n",
              "      <td>3320247.0</td>\n",
              "      <td>1299048.0</td>\n",
              "      <td>25565.0</td>\n",
              "      <td>66270.0</td>\n",
              "      <td>2238.0</td>\n",
              "      <td>208626.0</td>\n",
              "      <td>92220.0</td>\n",
              "    </tr>\n",
              "    <tr>\n",
              "      <th>1</th>\n",
              "      <td>2018</td>\n",
              "      <td>AL</td>\n",
              "      <td>4864680.0</td>\n",
              "      <td>829400.0</td>\n",
              "      <td>17.049426</td>\n",
              "      <td>3.040241</td>\n",
              "      <td>41240.0</td>\n",
              "      <td>838776.0</td>\n",
              "      <td>273493.0</td>\n",
              "      <td>515443.0</td>\n",
              "      <td>3317453.0</td>\n",
              "      <td>1293186.0</td>\n",
              "      <td>25576.0</td>\n",
              "      <td>64609.0</td>\n",
              "      <td>2182.0</td>\n",
              "      <td>203146.0</td>\n",
              "      <td>91619.0</td>\n",
              "    </tr>\n",
              "    <tr>\n",
              "      <th>2</th>\n",
              "      <td>2017</td>\n",
              "      <td>AL</td>\n",
              "      <td>4864680.0</td>\n",
              "      <td>829400.0</td>\n",
              "      <td>17.049426</td>\n",
              "      <td>3.040241</td>\n",
              "      <td>41240.0</td>\n",
              "      <td>838776.0</td>\n",
              "      <td>273493.0</td>\n",
              "      <td>515443.0</td>\n",
              "      <td>3317453.0</td>\n",
              "      <td>1293186.0</td>\n",
              "      <td>25576.0</td>\n",
              "      <td>64609.0</td>\n",
              "      <td>2182.0</td>\n",
              "      <td>203146.0</td>\n",
              "      <td>91619.0</td>\n",
              "    </tr>\n",
              "    <tr>\n",
              "      <th>3</th>\n",
              "      <td>2016</td>\n",
              "      <td>AL</td>\n",
              "      <td>4841164.0</td>\n",
              "      <td>868666.0</td>\n",
              "      <td>17.943329</td>\n",
              "      <td>3.810633</td>\n",
              "      <td>42577.0</td>\n",
              "      <td>828205.0</td>\n",
              "      <td>258502.0</td>\n",
              "      <td>492382.0</td>\n",
              "      <td>3325037.0</td>\n",
              "      <td>1282053.0</td>\n",
              "      <td>23919.0</td>\n",
              "      <td>60744.0</td>\n",
              "      <td>2008.0</td>\n",
              "      <td>193503.0</td>\n",
              "      <td>85412.0</td>\n",
              "    </tr>\n",
              "    <tr>\n",
              "      <th>4</th>\n",
              "      <td>2015</td>\n",
              "      <td>AL</td>\n",
              "      <td>4830620.0</td>\n",
              "      <td>887260.0</td>\n",
              "      <td>18.367415</td>\n",
              "      <td>4.287172</td>\n",
              "      <td>41876.0</td>\n",
              "      <td>826272.0</td>\n",
              "      <td>251335.0</td>\n",
              "      <td>478812.0</td>\n",
              "      <td>3325464.0</td>\n",
              "      <td>1276544.0</td>\n",
              "      <td>23850.0</td>\n",
              "      <td>59599.0</td>\n",
              "      <td>2439.0</td>\n",
              "      <td>193492.0</td>\n",
              "      <td>81646.0</td>\n",
              "    </tr>\n",
              "  </tbody>\n",
              "</table>\n",
              "</div>"
            ],
            "text/plain": [
              "   Year State  Population  ...  NativeHawaiianPop  HispanicPop  TwoOrMoreRacesPop\n",
              "0  2019    AL   4876250.0  ...             2238.0     208626.0            92220.0\n",
              "1  2018    AL   4864680.0  ...             2182.0     203146.0            91619.0\n",
              "2  2017    AL   4864680.0  ...             2182.0     203146.0            91619.0\n",
              "3  2016    AL   4841164.0  ...             2008.0     193503.0            85412.0\n",
              "4  2015    AL   4830620.0  ...             2439.0     193492.0            81646.0\n",
              "\n",
              "[5 rows x 17 columns]"
            ]
          },
          "metadata": {
            "tags": []
          },
          "execution_count": 12
        }
      ]
    },
    {
      "cell_type": "code",
      "metadata": {
        "id": "ic3Bbu0gP8En"
      },
      "source": [
        "X_cat=df[[\"State\"]].copy()"
      ],
      "execution_count": null,
      "outputs": []
    },
    {
      "cell_type": "code",
      "metadata": {
        "id": "cAIKFGR1QZaG"
      },
      "source": [
        "X_num=X.drop(columns=[\"State\"])"
      ],
      "execution_count": null,
      "outputs": []
    },
    {
      "cell_type": "code",
      "metadata": {
        "colab": {
          "base_uri": "https://localhost:8080/",
          "height": 224
        },
        "id": "EuE75SDjQsH_",
        "outputId": "deb17042-432e-4e8d-8393-16610a39aa19"
      },
      "source": [
        "X_num.head()"
      ],
      "execution_count": null,
      "outputs": [
        {
          "output_type": "execute_result",
          "data": {
            "text/html": [
              "<div>\n",
              "<style scoped>\n",
              "    .dataframe tbody tr th:only-of-type {\n",
              "        vertical-align: middle;\n",
              "    }\n",
              "\n",
              "    .dataframe tbody tr th {\n",
              "        vertical-align: top;\n",
              "    }\n",
              "\n",
              "    .dataframe thead th {\n",
              "        text-align: right;\n",
              "    }\n",
              "</style>\n",
              "<table border=\"1\" class=\"dataframe\">\n",
              "  <thead>\n",
              "    <tr style=\"text-align: right;\">\n",
              "      <th></th>\n",
              "      <th>Year</th>\n",
              "      <th>Population</th>\n",
              "      <th>PovertyCount</th>\n",
              "      <th>PovertyRate</th>\n",
              "      <th>UnemploymentRate</th>\n",
              "      <th>NoCompletedEducation</th>\n",
              "      <th>PopulationWithHighSchoolDiploma</th>\n",
              "      <th>PopulationWithAssociatesDegree</th>\n",
              "      <th>PopulationWithBachelorsDegree</th>\n",
              "      <th>WhitePop</th>\n",
              "      <th>BlackPop</th>\n",
              "      <th>NativeAmericanPop</th>\n",
              "      <th>AsianPop</th>\n",
              "      <th>NativeHawaiianPop</th>\n",
              "      <th>HispanicPop</th>\n",
              "      <th>TwoOrMoreRacesPop</th>\n",
              "    </tr>\n",
              "  </thead>\n",
              "  <tbody>\n",
              "    <tr>\n",
              "      <th>0</th>\n",
              "      <td>2019</td>\n",
              "      <td>4876250.0</td>\n",
              "      <td>795989.0</td>\n",
              "      <td>16.323794</td>\n",
              "      <td>2.708946</td>\n",
              "      <td>40837.0</td>\n",
              "      <td>841716.0</td>\n",
              "      <td>282316.0</td>\n",
              "      <td>529178.0</td>\n",
              "      <td>3320247.0</td>\n",
              "      <td>1299048.0</td>\n",
              "      <td>25565.0</td>\n",
              "      <td>66270.0</td>\n",
              "      <td>2238.0</td>\n",
              "      <td>208626.0</td>\n",
              "      <td>92220.0</td>\n",
              "    </tr>\n",
              "    <tr>\n",
              "      <th>1</th>\n",
              "      <td>2018</td>\n",
              "      <td>4864680.0</td>\n",
              "      <td>829400.0</td>\n",
              "      <td>17.049426</td>\n",
              "      <td>3.040241</td>\n",
              "      <td>41240.0</td>\n",
              "      <td>838776.0</td>\n",
              "      <td>273493.0</td>\n",
              "      <td>515443.0</td>\n",
              "      <td>3317453.0</td>\n",
              "      <td>1293186.0</td>\n",
              "      <td>25576.0</td>\n",
              "      <td>64609.0</td>\n",
              "      <td>2182.0</td>\n",
              "      <td>203146.0</td>\n",
              "      <td>91619.0</td>\n",
              "    </tr>\n",
              "    <tr>\n",
              "      <th>2</th>\n",
              "      <td>2017</td>\n",
              "      <td>4864680.0</td>\n",
              "      <td>829400.0</td>\n",
              "      <td>17.049426</td>\n",
              "      <td>3.040241</td>\n",
              "      <td>41240.0</td>\n",
              "      <td>838776.0</td>\n",
              "      <td>273493.0</td>\n",
              "      <td>515443.0</td>\n",
              "      <td>3317453.0</td>\n",
              "      <td>1293186.0</td>\n",
              "      <td>25576.0</td>\n",
              "      <td>64609.0</td>\n",
              "      <td>2182.0</td>\n",
              "      <td>203146.0</td>\n",
              "      <td>91619.0</td>\n",
              "    </tr>\n",
              "    <tr>\n",
              "      <th>3</th>\n",
              "      <td>2016</td>\n",
              "      <td>4841164.0</td>\n",
              "      <td>868666.0</td>\n",
              "      <td>17.943329</td>\n",
              "      <td>3.810633</td>\n",
              "      <td>42577.0</td>\n",
              "      <td>828205.0</td>\n",
              "      <td>258502.0</td>\n",
              "      <td>492382.0</td>\n",
              "      <td>3325037.0</td>\n",
              "      <td>1282053.0</td>\n",
              "      <td>23919.0</td>\n",
              "      <td>60744.0</td>\n",
              "      <td>2008.0</td>\n",
              "      <td>193503.0</td>\n",
              "      <td>85412.0</td>\n",
              "    </tr>\n",
              "    <tr>\n",
              "      <th>4</th>\n",
              "      <td>2015</td>\n",
              "      <td>4830620.0</td>\n",
              "      <td>887260.0</td>\n",
              "      <td>18.367415</td>\n",
              "      <td>4.287172</td>\n",
              "      <td>41876.0</td>\n",
              "      <td>826272.0</td>\n",
              "      <td>251335.0</td>\n",
              "      <td>478812.0</td>\n",
              "      <td>3325464.0</td>\n",
              "      <td>1276544.0</td>\n",
              "      <td>23850.0</td>\n",
              "      <td>59599.0</td>\n",
              "      <td>2439.0</td>\n",
              "      <td>193492.0</td>\n",
              "      <td>81646.0</td>\n",
              "    </tr>\n",
              "  </tbody>\n",
              "</table>\n",
              "</div>"
            ],
            "text/plain": [
              "   Year  Population  ...  HispanicPop  TwoOrMoreRacesPop\n",
              "0  2019   4876250.0  ...     208626.0            92220.0\n",
              "1  2018   4864680.0  ...     203146.0            91619.0\n",
              "2  2017   4864680.0  ...     203146.0            91619.0\n",
              "3  2016   4841164.0  ...     193503.0            85412.0\n",
              "4  2015   4830620.0  ...     193492.0            81646.0\n",
              "\n",
              "[5 rows x 16 columns]"
            ]
          },
          "metadata": {
            "tags": []
          },
          "execution_count": 15
        }
      ]
    },
    {
      "cell_type": "code",
      "metadata": {
        "id": "vTQwHEynQugO"
      },
      "source": [
        "le=LabelEncoder()"
      ],
      "execution_count": null,
      "outputs": []
    },
    {
      "cell_type": "code",
      "metadata": {
        "id": "ibjS6Ny0Rv4C"
      },
      "source": [
        "X_cat[\"State\"]= le.fit_transform(X_cat[\"State\"])"
      ],
      "execution_count": null,
      "outputs": []
    },
    {
      "cell_type": "code",
      "metadata": {
        "colab": {
          "base_uri": "https://localhost:8080/",
          "height": 419
        },
        "id": "MYGpdDW6SC2O",
        "outputId": "4b584ba1-8697-41dc-f1d2-6b89b7a6698f"
      },
      "source": [
        "X_cat"
      ],
      "execution_count": null,
      "outputs": [
        {
          "output_type": "execute_result",
          "data": {
            "text/html": [
              "<div>\n",
              "<style scoped>\n",
              "    .dataframe tbody tr th:only-of-type {\n",
              "        vertical-align: middle;\n",
              "    }\n",
              "\n",
              "    .dataframe tbody tr th {\n",
              "        vertical-align: top;\n",
              "    }\n",
              "\n",
              "    .dataframe thead th {\n",
              "        text-align: right;\n",
              "    }\n",
              "</style>\n",
              "<table border=\"1\" class=\"dataframe\">\n",
              "  <thead>\n",
              "    <tr style=\"text-align: right;\">\n",
              "      <th></th>\n",
              "      <th>State</th>\n",
              "    </tr>\n",
              "  </thead>\n",
              "  <tbody>\n",
              "    <tr>\n",
              "      <th>0</th>\n",
              "      <td>1</td>\n",
              "    </tr>\n",
              "    <tr>\n",
              "      <th>1</th>\n",
              "      <td>1</td>\n",
              "    </tr>\n",
              "    <tr>\n",
              "      <th>2</th>\n",
              "      <td>1</td>\n",
              "    </tr>\n",
              "    <tr>\n",
              "      <th>3</th>\n",
              "      <td>1</td>\n",
              "    </tr>\n",
              "    <tr>\n",
              "      <th>4</th>\n",
              "      <td>1</td>\n",
              "    </tr>\n",
              "    <tr>\n",
              "      <th>...</th>\n",
              "      <td>...</td>\n",
              "    </tr>\n",
              "    <tr>\n",
              "      <th>245</th>\n",
              "      <td>49</td>\n",
              "    </tr>\n",
              "    <tr>\n",
              "      <th>246</th>\n",
              "      <td>49</td>\n",
              "    </tr>\n",
              "    <tr>\n",
              "      <th>247</th>\n",
              "      <td>49</td>\n",
              "    </tr>\n",
              "    <tr>\n",
              "      <th>248</th>\n",
              "      <td>49</td>\n",
              "    </tr>\n",
              "    <tr>\n",
              "      <th>249</th>\n",
              "      <td>49</td>\n",
              "    </tr>\n",
              "  </tbody>\n",
              "</table>\n",
              "<p>250 rows × 1 columns</p>\n",
              "</div>"
            ],
            "text/plain": [
              "     State\n",
              "0        1\n",
              "1        1\n",
              "2        1\n",
              "3        1\n",
              "4        1\n",
              "..     ...\n",
              "245     49\n",
              "246     49\n",
              "247     49\n",
              "248     49\n",
              "249     49\n",
              "\n",
              "[250 rows x 1 columns]"
            ]
          },
          "metadata": {
            "tags": []
          },
          "execution_count": 18
        }
      ]
    },
    {
      "cell_type": "code",
      "metadata": {
        "colab": {
          "base_uri": "https://localhost:8080/",
          "height": 224
        },
        "id": "3qENDkeESRZ5",
        "outputId": "1516146e-d7a2-486e-9005-f3de04462beb"
      },
      "source": [
        "X_combined=pd.concat([X_cat, X_num],axis=1)\n",
        "X_combined.head()"
      ],
      "execution_count": null,
      "outputs": [
        {
          "output_type": "execute_result",
          "data": {
            "text/html": [
              "<div>\n",
              "<style scoped>\n",
              "    .dataframe tbody tr th:only-of-type {\n",
              "        vertical-align: middle;\n",
              "    }\n",
              "\n",
              "    .dataframe tbody tr th {\n",
              "        vertical-align: top;\n",
              "    }\n",
              "\n",
              "    .dataframe thead th {\n",
              "        text-align: right;\n",
              "    }\n",
              "</style>\n",
              "<table border=\"1\" class=\"dataframe\">\n",
              "  <thead>\n",
              "    <tr style=\"text-align: right;\">\n",
              "      <th></th>\n",
              "      <th>State</th>\n",
              "      <th>Year</th>\n",
              "      <th>Population</th>\n",
              "      <th>PovertyCount</th>\n",
              "      <th>PovertyRate</th>\n",
              "      <th>UnemploymentRate</th>\n",
              "      <th>NoCompletedEducation</th>\n",
              "      <th>PopulationWithHighSchoolDiploma</th>\n",
              "      <th>PopulationWithAssociatesDegree</th>\n",
              "      <th>PopulationWithBachelorsDegree</th>\n",
              "      <th>WhitePop</th>\n",
              "      <th>BlackPop</th>\n",
              "      <th>NativeAmericanPop</th>\n",
              "      <th>AsianPop</th>\n",
              "      <th>NativeHawaiianPop</th>\n",
              "      <th>HispanicPop</th>\n",
              "      <th>TwoOrMoreRacesPop</th>\n",
              "    </tr>\n",
              "  </thead>\n",
              "  <tbody>\n",
              "    <tr>\n",
              "      <th>0</th>\n",
              "      <td>1</td>\n",
              "      <td>2019</td>\n",
              "      <td>4876250.0</td>\n",
              "      <td>795989.0</td>\n",
              "      <td>16.323794</td>\n",
              "      <td>2.708946</td>\n",
              "      <td>40837.0</td>\n",
              "      <td>841716.0</td>\n",
              "      <td>282316.0</td>\n",
              "      <td>529178.0</td>\n",
              "      <td>3320247.0</td>\n",
              "      <td>1299048.0</td>\n",
              "      <td>25565.0</td>\n",
              "      <td>66270.0</td>\n",
              "      <td>2238.0</td>\n",
              "      <td>208626.0</td>\n",
              "      <td>92220.0</td>\n",
              "    </tr>\n",
              "    <tr>\n",
              "      <th>1</th>\n",
              "      <td>1</td>\n",
              "      <td>2018</td>\n",
              "      <td>4864680.0</td>\n",
              "      <td>829400.0</td>\n",
              "      <td>17.049426</td>\n",
              "      <td>3.040241</td>\n",
              "      <td>41240.0</td>\n",
              "      <td>838776.0</td>\n",
              "      <td>273493.0</td>\n",
              "      <td>515443.0</td>\n",
              "      <td>3317453.0</td>\n",
              "      <td>1293186.0</td>\n",
              "      <td>25576.0</td>\n",
              "      <td>64609.0</td>\n",
              "      <td>2182.0</td>\n",
              "      <td>203146.0</td>\n",
              "      <td>91619.0</td>\n",
              "    </tr>\n",
              "    <tr>\n",
              "      <th>2</th>\n",
              "      <td>1</td>\n",
              "      <td>2017</td>\n",
              "      <td>4864680.0</td>\n",
              "      <td>829400.0</td>\n",
              "      <td>17.049426</td>\n",
              "      <td>3.040241</td>\n",
              "      <td>41240.0</td>\n",
              "      <td>838776.0</td>\n",
              "      <td>273493.0</td>\n",
              "      <td>515443.0</td>\n",
              "      <td>3317453.0</td>\n",
              "      <td>1293186.0</td>\n",
              "      <td>25576.0</td>\n",
              "      <td>64609.0</td>\n",
              "      <td>2182.0</td>\n",
              "      <td>203146.0</td>\n",
              "      <td>91619.0</td>\n",
              "    </tr>\n",
              "    <tr>\n",
              "      <th>3</th>\n",
              "      <td>1</td>\n",
              "      <td>2016</td>\n",
              "      <td>4841164.0</td>\n",
              "      <td>868666.0</td>\n",
              "      <td>17.943329</td>\n",
              "      <td>3.810633</td>\n",
              "      <td>42577.0</td>\n",
              "      <td>828205.0</td>\n",
              "      <td>258502.0</td>\n",
              "      <td>492382.0</td>\n",
              "      <td>3325037.0</td>\n",
              "      <td>1282053.0</td>\n",
              "      <td>23919.0</td>\n",
              "      <td>60744.0</td>\n",
              "      <td>2008.0</td>\n",
              "      <td>193503.0</td>\n",
              "      <td>85412.0</td>\n",
              "    </tr>\n",
              "    <tr>\n",
              "      <th>4</th>\n",
              "      <td>1</td>\n",
              "      <td>2015</td>\n",
              "      <td>4830620.0</td>\n",
              "      <td>887260.0</td>\n",
              "      <td>18.367415</td>\n",
              "      <td>4.287172</td>\n",
              "      <td>41876.0</td>\n",
              "      <td>826272.0</td>\n",
              "      <td>251335.0</td>\n",
              "      <td>478812.0</td>\n",
              "      <td>3325464.0</td>\n",
              "      <td>1276544.0</td>\n",
              "      <td>23850.0</td>\n",
              "      <td>59599.0</td>\n",
              "      <td>2439.0</td>\n",
              "      <td>193492.0</td>\n",
              "      <td>81646.0</td>\n",
              "    </tr>\n",
              "  </tbody>\n",
              "</table>\n",
              "</div>"
            ],
            "text/plain": [
              "   State  Year  Population  ...  NativeHawaiianPop  HispanicPop  TwoOrMoreRacesPop\n",
              "0      1  2019   4876250.0  ...             2238.0     208626.0            92220.0\n",
              "1      1  2018   4864680.0  ...             2182.0     203146.0            91619.0\n",
              "2      1  2017   4864680.0  ...             2182.0     203146.0            91619.0\n",
              "3      1  2016   4841164.0  ...             2008.0     193503.0            85412.0\n",
              "4      1  2015   4830620.0  ...             2439.0     193492.0            81646.0\n",
              "\n",
              "[5 rows x 17 columns]"
            ]
          },
          "metadata": {
            "tags": []
          },
          "execution_count": 19
        }
      ]
    },
    {
      "cell_type": "code",
      "metadata": {
        "id": "euP4cL_SUUQR",
        "colab": {
          "base_uri": "https://localhost:8080/"
        },
        "outputId": "14e4e685-ead4-4706-e1dc-8166bf42800b"
      },
      "source": [
        "y[\"Rate\"]"
      ],
      "execution_count": null,
      "outputs": [
        {
          "output_type": "execute_result",
          "data": {
            "text/plain": [
              "0      7.89\n",
              "1      6.94\n",
              "2      7.38\n",
              "3      9.03\n",
              "4      8.31\n",
              "       ... \n",
              "245       7\n",
              "246    5.33\n",
              "247    4.64\n",
              "248    5.01\n",
              "249    4.89\n",
              "Name: Rate, Length: 250, dtype: object"
            ]
          },
          "metadata": {
            "tags": []
          },
          "execution_count": 20
        }
      ]
    },
    {
      "cell_type": "markdown",
      "metadata": {
        "id": "bWHUW4dYUaPp"
      },
      "source": [
        "## Train Test Split\n",
        "\n",
        " "
      ]
    },
    {
      "cell_type": "code",
      "metadata": {
        "colab": {
          "base_uri": "https://localhost:8080/",
          "height": 224
        },
        "id": "FhJZjbYbUdQO",
        "outputId": "b9276544-8d64-4122-d7c9-453e4ba4c761"
      },
      "source": [
        "from sklearn.model_selection import train_test_split\n",
        "X_train, X_test, y_train, y_test = train_test_split(X_combined, y, random_state=42)\n",
        "X_train.head()"
      ],
      "execution_count": null,
      "outputs": [
        {
          "output_type": "execute_result",
          "data": {
            "text/html": [
              "<div>\n",
              "<style scoped>\n",
              "    .dataframe tbody tr th:only-of-type {\n",
              "        vertical-align: middle;\n",
              "    }\n",
              "\n",
              "    .dataframe tbody tr th {\n",
              "        vertical-align: top;\n",
              "    }\n",
              "\n",
              "    .dataframe thead th {\n",
              "        text-align: right;\n",
              "    }\n",
              "</style>\n",
              "<table border=\"1\" class=\"dataframe\">\n",
              "  <thead>\n",
              "    <tr style=\"text-align: right;\">\n",
              "      <th></th>\n",
              "      <th>State</th>\n",
              "      <th>Year</th>\n",
              "      <th>Population</th>\n",
              "      <th>PovertyCount</th>\n",
              "      <th>PovertyRate</th>\n",
              "      <th>UnemploymentRate</th>\n",
              "      <th>NoCompletedEducation</th>\n",
              "      <th>PopulationWithHighSchoolDiploma</th>\n",
              "      <th>PopulationWithAssociatesDegree</th>\n",
              "      <th>PopulationWithBachelorsDegree</th>\n",
              "      <th>WhitePop</th>\n",
              "      <th>BlackPop</th>\n",
              "      <th>NativeAmericanPop</th>\n",
              "      <th>AsianPop</th>\n",
              "      <th>NativeHawaiianPop</th>\n",
              "      <th>HispanicPop</th>\n",
              "      <th>TwoOrMoreRacesPop</th>\n",
              "    </tr>\n",
              "  </thead>\n",
              "  <tbody>\n",
              "    <tr>\n",
              "      <th>84</th>\n",
              "      <td>16</td>\n",
              "      <td>2015</td>\n",
              "      <td>4397353.0</td>\n",
              "      <td>805841.0</td>\n",
              "      <td>18.325593</td>\n",
              "      <td>3.963930</td>\n",
              "      <td>32837.0</td>\n",
              "      <td>788112.0</td>\n",
              "      <td>221409.0</td>\n",
              "      <td>386554.0</td>\n",
              "      <td>3851591.0</td>\n",
              "      <td>347034.0</td>\n",
              "      <td>9063.0</td>\n",
              "      <td>55483.0</td>\n",
              "      <td>2197.0</td>\n",
              "      <td>143481.0</td>\n",
              "      <td>90836.0</td>\n",
              "    </tr>\n",
              "    <tr>\n",
              "      <th>125</th>\n",
              "      <td>25</td>\n",
              "      <td>2019</td>\n",
              "      <td>1050649.0</td>\n",
              "      <td>134605.0</td>\n",
              "      <td>12.811605</td>\n",
              "      <td>2.047592</td>\n",
              "      <td>3154.0</td>\n",
              "      <td>175082.0</td>\n",
              "      <td>66951.0</td>\n",
              "      <td>155230.0</td>\n",
              "      <td>930204.0</td>\n",
              "      <td>5303.0</td>\n",
              "      <td>66839.0</td>\n",
              "      <td>8259.0</td>\n",
              "      <td>807.0</td>\n",
              "      <td>40314.0</td>\n",
              "      <td>32161.0</td>\n",
              "    </tr>\n",
              "    <tr>\n",
              "      <th>167</th>\n",
              "      <td>27</td>\n",
              "      <td>2017</td>\n",
              "      <td>752201.0</td>\n",
              "      <td>79270.0</td>\n",
              "      <td>10.538407</td>\n",
              "      <td>1.553973</td>\n",
              "      <td>3019.0</td>\n",
              "      <td>113235.0</td>\n",
              "      <td>67212.0</td>\n",
              "      <td>105552.0</td>\n",
              "      <td>655268.0</td>\n",
              "      <td>20445.0</td>\n",
              "      <td>39462.0</td>\n",
              "      <td>10814.0</td>\n",
              "      <td>378.0</td>\n",
              "      <td>26529.0</td>\n",
              "      <td>18306.0</td>\n",
              "    </tr>\n",
              "    <tr>\n",
              "      <th>245</th>\n",
              "      <td>49</td>\n",
              "      <td>2019</td>\n",
              "      <td>581024.0</td>\n",
              "      <td>62257.0</td>\n",
              "      <td>10.715048</td>\n",
              "      <td>2.331057</td>\n",
              "      <td>1881.0</td>\n",
              "      <td>93507.0</td>\n",
              "      <td>43761.0</td>\n",
              "      <td>68269.0</td>\n",
              "      <td>531304.0</td>\n",
              "      <td>5582.0</td>\n",
              "      <td>14164.0</td>\n",
              "      <td>5025.0</td>\n",
              "      <td>596.0</td>\n",
              "      <td>57341.0</td>\n",
              "      <td>15521.0</td>\n",
              "    </tr>\n",
              "    <tr>\n",
              "      <th>109</th>\n",
              "      <td>21</td>\n",
              "      <td>2015</td>\n",
              "      <td>9900571.0</td>\n",
              "      <td>1616870.0</td>\n",
              "      <td>16.331078</td>\n",
              "      <td>4.825439</td>\n",
              "      <td>72158.0</td>\n",
              "      <td>1722171.0</td>\n",
              "      <td>595198.0</td>\n",
              "      <td>1094936.0</td>\n",
              "      <td>7823875.0</td>\n",
              "      <td>1381388.0</td>\n",
              "      <td>53951.0</td>\n",
              "      <td>268766.0</td>\n",
              "      <td>2083.0</td>\n",
              "      <td>467021.0</td>\n",
              "      <td>261324.0</td>\n",
              "    </tr>\n",
              "  </tbody>\n",
              "</table>\n",
              "</div>"
            ],
            "text/plain": [
              "     State  Year  Population  ...  NativeHawaiianPop  HispanicPop  TwoOrMoreRacesPop\n",
              "84      16  2015   4397353.0  ...             2197.0     143481.0            90836.0\n",
              "125     25  2019   1050649.0  ...              807.0      40314.0            32161.0\n",
              "167     27  2017    752201.0  ...              378.0      26529.0            18306.0\n",
              "245     49  2019    581024.0  ...              596.0      57341.0            15521.0\n",
              "109     21  2015   9900571.0  ...             2083.0     467021.0           261324.0\n",
              "\n",
              "[5 rows x 17 columns]"
            ]
          },
          "metadata": {
            "tags": []
          },
          "execution_count": 21
        }
      ]
    },
    {
      "cell_type": "markdown",
      "metadata": {
        "id": "y63nV9fPKtr9"
      },
      "source": [
        "## Train the Linear Regression Model\n",
        "We used a linear regression model because we are predicting the rates of infant mortality."
      ]
    },
    {
      "cell_type": "code",
      "metadata": {
        "colab": {
          "base_uri": "https://localhost:8080/"
        },
        "id": "VhtVCnPSUwtn",
        "outputId": "8849c186-d409-489c-e250-bf2c188d6e6c"
      },
      "source": [
        "from sklearn.linear_model import LinearRegression\n",
        "model_lr=LinearRegression()\n",
        "model_lr.fit(X_train, y_train)"
      ],
      "execution_count": null,
      "outputs": [
        {
          "output_type": "execute_result",
          "data": {
            "text/plain": [
              "LinearRegression(copy_X=True, fit_intercept=True, n_jobs=None, normalize=False)"
            ]
          },
          "metadata": {
            "tags": []
          },
          "execution_count": 22
        }
      ]
    },
    {
      "cell_type": "code",
      "metadata": {
        "id": "m3UH5gCeVBxm",
        "colab": {
          "base_uri": "https://localhost:8080/"
        },
        "outputId": "d52a207c-97c5-4303-a035-d759d2815d95"
      },
      "source": [
        "print(f\"Training Data Score: {model_lr.score(X_train, y_train)}\")\n",
        "print(f\"Testing Data Score: {model_lr.score(X_test, y_test)}\")"
      ],
      "execution_count": null,
      "outputs": [
        {
          "output_type": "stream",
          "text": [
            "Training Data Score: 0.6330406857040429\n",
            "Testing Data Score: 0.6870369983977309\n"
          ],
          "name": "stdout"
        }
      ]
    },
    {
      "cell_type": "markdown",
      "metadata": {
        "id": "ax-jov_wgFcv"
      },
      "source": [
        "The model is more accurate on testing data, and will perform better on data it has not seen."
      ]
    },
    {
      "cell_type": "markdown",
      "metadata": {
        "id": "RvCc39B4MrFA"
      },
      "source": [
        "Saving the model so that we can deploy it for prediction in app."
      ]
    },
    {
      "cell_type": "code",
      "metadata": {
        "id": "C2GZrNpIsywl"
      },
      "source": [
        "import joblib"
      ],
      "execution_count": null,
      "outputs": []
    },
    {
      "cell_type": "code",
      "metadata": {
        "colab": {
          "base_uri": "https://localhost:8080/"
        },
        "id": "xc1cPCNctdL8",
        "outputId": "8944d1f4-dd50-42d4-9652-06b97f1b6670"
      },
      "source": [
        "joblib.dump(model_lr,\"/content/drive/MyDrive/model_lr_rate.sav\")"
      ],
      "execution_count": null,
      "outputs": [
        {
          "output_type": "execute_result",
          "data": {
            "text/plain": [
              "['/content/drive/MyDrive/model_lr_rate.sav']"
            ]
          },
          "metadata": {
            "tags": []
          },
          "execution_count": 25
        }
      ]
    },
    {
      "cell_type": "code",
      "metadata": {
        "id": "eww6xzQStgQ1"
      },
      "source": [
        "y_preds=model_lr.predict(X_test)"
      ],
      "execution_count": null,
      "outputs": []
    },
    {
      "cell_type": "code",
      "metadata": {
        "colab": {
          "base_uri": "https://localhost:8080/"
        },
        "id": "HsQn0fLKRa92",
        "outputId": "a6e5e508-fa30-44fc-a910-be39a9c5f326"
      },
      "source": [
        "print(\"coefficents\",model_lr.coef_)"
      ],
      "execution_count": null,
      "outputs": [
        {
          "output_type": "stream",
          "text": [
            "coefficents [[-6.86491062e-03 -1.03234059e-01  1.96652759e-06 -2.85177166e-06\n",
            "   1.99746853e-01 -2.83719841e-01 -1.16094312e-05  2.51688726e-07\n",
            "   6.38802476e-07 -6.77078098e-06 -9.80304704e-07  1.65252504e-07\n",
            "  -2.80523356e-06 -8.25325303e-07 -7.52111034e-06  7.19574713e-08\n",
            "   3.93847982e-06]]\n"
          ],
          "name": "stdout"
        }
      ]
    },
    {
      "cell_type": "code",
      "metadata": {
        "colab": {
          "base_uri": "https://localhost:8080/"
        },
        "id": "bIowwm7ERrJ5",
        "outputId": "f2316932-e536-478f-c728-0df4043d212a"
      },
      "source": [
        "model_lr.intercept_"
      ],
      "execution_count": null,
      "outputs": [
        {
          "output_type": "execute_result",
          "data": {
            "text/plain": [
              "array([212.36692951])"
            ]
          },
          "metadata": {
            "tags": []
          },
          "execution_count": 28
        }
      ]
    },
    {
      "cell_type": "code",
      "metadata": {
        "colab": {
          "base_uri": "https://localhost:8080/"
        },
        "id": "LyxXIvKFSIaX",
        "outputId": "2ecae913-68cf-448e-f834-bbde15cec1da"
      },
      "source": [
        "X_test.columns"
      ],
      "execution_count": null,
      "outputs": [
        {
          "output_type": "execute_result",
          "data": {
            "text/plain": [
              "Index(['State', 'Year', 'Population', 'PovertyCount', 'PovertyRate',\n",
              "       'UnemploymentRate', 'NoCompletedEducation',\n",
              "       'PopulationWithHighSchoolDiploma', 'PopulationWithAssociatesDegree',\n",
              "       'PopulationWithBachelorsDegree', 'WhitePop', 'BlackPop',\n",
              "       'NativeAmericanPop', 'AsianPop', 'NativeHawaiianPop', 'HispanicPop',\n",
              "       'TwoOrMoreRacesPop'],\n",
              "      dtype='object')"
            ]
          },
          "metadata": {
            "tags": []
          },
          "execution_count": 29
        }
      ]
    },
    {
      "cell_type": "code",
      "metadata": {
        "id": "7g2KpIR7TB41"
      },
      "source": [
        "import matplotlib.pyplot as plt\n",
        "import numpy as np"
      ],
      "execution_count": null,
      "outputs": []
    },
    {
      "cell_type": "markdown",
      "metadata": {
        "id": "5i8LsvdiHF6Z"
      },
      "source": [
        "## Charts \n",
        "\n",
        "## Infant Mortality Rate based on the Black Population. "
      ]
    },
    {
      "cell_type": "code",
      "metadata": {
        "colab": {
          "base_uri": "https://localhost:8080/",
          "height": 296
        },
        "id": "3HA3XTEGTzy1",
        "outputId": "cc280afb-ebb8-488a-8406-ee57d80f61a9"
      },
      "source": [
        "x=X_test[\"BlackPop\"]\n",
        "y=y_test[\"Rate\"].astype(float)\n",
        "\n",
        "plt.scatter(x,y, color=\"black\")\n",
        "m,b=np.polyfit(x,y,1)\n",
        "plt.plot(x,m*x+b, color=\"blue\", linewidth=2)\n",
        "plt.xlabel(\"Black Population\")\n",
        "plt.ylabel(\"Infant Mortality Rate\")"
      ],
      "execution_count": null,
      "outputs": [
        {
          "output_type": "execute_result",
          "data": {
            "text/plain": [
              "Text(0, 0.5, 'Infant Mortality Rate')"
            ]
          },
          "metadata": {
            "tags": []
          },
          "execution_count": 31
        },
        {
          "output_type": "display_data",
          "data": {
            "image/png": "[encoded data removed]",
            "text/plain": [
              "<Figure size 432x288 with 1 Axes>"
            ]
          },
          "metadata": {
            "tags": [],
            "needs_background": "light"
          }
        }
      ]
    },
    {
      "cell_type": "markdown",
      "metadata": {
        "id": "sQ-8kGJxNPPu"
      },
      "source": [
        "### Infant Mortality Rate based on the White Population. "
      ]
    },
    {
      "cell_type": "code",
      "metadata": {
        "colab": {
          "base_uri": "https://localhost:8080/",
          "height": 296
        },
        "id": "t7UVcGKGPHxl",
        "outputId": "7054f9c3-9f45-4711-c0b6-b13d78832f37"
      },
      "source": [
        "x=X_test[\"WhitePop\"]\n",
        "y=y_test[\"Rate\"].astype(float)\n",
        "\n",
        "plt.scatter(x,y, color=\"black\")\n",
        "m,b=np.polyfit(x,y,1)\n",
        "plt.plot(x,m*x+b, color=\"green\", linewidth=2)\n",
        "plt.xlabel(\"White Population\")\n",
        "plt.ylabel(\"Infant Mortality Rate\")"
      ],
      "execution_count": null,
      "outputs": [
        {
          "output_type": "execute_result",
          "data": {
            "text/plain": [
              "Text(0, 0.5, 'Infant Mortality Rate')"
            ]
          },
          "metadata": {
            "tags": []
          },
          "execution_count": 41
        },
        {
          "output_type": "display_data",
          "data": {
            "image/png": "[encoded data removed]",
            "text/plain": [
              "<Figure size 432x288 with 1 Axes>"
            ]
          },
          "metadata": {
            "tags": [],
            "needs_background": "light"
          }
        }
      ]
    },
    {
      "cell_type": "markdown",
      "metadata": {
        "id": "wzQDmIXvN6pT"
      },
      "source": [
        "### Infant Mortality Rate based on Population with Bachelors Degree. "
      ]
    },
    {
      "cell_type": "code",
      "metadata": {
        "colab": {
          "base_uri": "https://localhost:8080/",
          "height": 296
        },
        "id": "zXvSWXoGWgwI",
        "outputId": "05968675-95c5-4cea-b4b7-d82bdc2db307"
      },
      "source": [
        "x=X_test[\"PopulationWithBachelorsDegree\"]\n",
        "y=y_test[\"Rate\"].astype(float)\n",
        "\n",
        "plt.scatter(x,y, color=\"black\")\n",
        "m,b=np.polyfit(x,y,1)\n",
        "plt.plot(x,m*x+b, color=\"red\", linewidth=2)\n",
        "plt.xlabel(\"PopulationWithBachelorsDegree\")\n",
        "plt.ylabel(\"Infant Mortality Rate\")"
      ],
      "execution_count": null,
      "outputs": [
        {
          "output_type": "execute_result",
          "data": {
            "text/plain": [
              "Text(0, 0.5, 'Infant Mortality Rate')"
            ]
          },
          "metadata": {
            "tags": []
          },
          "execution_count": 32
        },
        {
          "output_type": "display_data",
          "data": {
            "image/png": "[encoded data removed]",
            "text/plain": [
              "<Figure size 432x288 with 1 Axes>"
            ]
          },
          "metadata": {
            "tags": [],
            "needs_background": "light"
          }
        }
      ]
    },
    {
      "cell_type": "markdown",
      "metadata": {
        "id": "1r-EAwB2OTN3"
      },
      "source": [
        "### Infant Mortality Rate based on Population with High School Diploma. "
      ]
    },
    {
      "cell_type": "code",
      "metadata": {
        "colab": {
          "base_uri": "https://localhost:8080/",
          "height": 296
        },
        "id": "tNCJI8SjO4Hu",
        "outputId": "52f375fd-6ec1-481c-c846-002af4da7801"
      },
      "source": [
        "x=X_test[\"PopulationWithHighSchoolDiploma\"]\n",
        "y=y_test[\"Rate\"].astype(float)\n",
        "\n",
        "plt.scatter(x,y, color=\"black\")\n",
        "m,b=np.polyfit(x,y,1)\n",
        "plt.plot(x,m*x+b, color=\"pink\", linewidth=2)\n",
        "plt.xlabel(\"PopulationWithHighSchoolDiploma\")\n",
        "plt.ylabel(\"Infant Mortality Rate\")"
      ],
      "execution_count": null,
      "outputs": [
        {
          "output_type": "execute_result",
          "data": {
            "text/plain": [
              "Text(0, 0.5, 'Infant Mortality Rate')"
            ]
          },
          "metadata": {
            "tags": []
          },
          "execution_count": 40
        },
        {
          "output_type": "display_data",
          "data": {
            "image/png": "[encoded data removed]",
            "text/plain": [
              "<Figure size 432x288 with 1 Axes>"
            ]
          },
          "metadata": {
            "tags": [],
            "needs_background": "light"
          }
        }
      ]
    },
    {
      "cell_type": "markdown",
      "metadata": {
        "id": "9-7XFBUEOdmz"
      },
      "source": [
        "### Infant Mortality Rate with Poverty Rate\n",
        "\n"
      ]
    },
    {
      "cell_type": "code",
      "metadata": {
        "colab": {
          "base_uri": "https://localhost:8080/",
          "height": 296
        },
        "id": "8wsFcSN5bocb",
        "outputId": "1c87ddf8-3ca7-42e9-a3df-dda0bd21b15e"
      },
      "source": [
        "x=X_test[\"PovertyRate\"]\n",
        "y=y_test[\"Rate\"].astype(float)\n",
        "\n",
        "plt.scatter(x,y, color=\"black\")\n",
        "m,b=np.polyfit(x,y,1)\n",
        "plt.plot(x,m*x+b, color=\"orange\", linewidth=2)\n",
        "plt.xlabel(\"PovertyRate\")\n",
        "plt.ylabel(\"Infant Mortality Rate\")"
      ],
      "execution_count": null,
      "outputs": [
        {
          "output_type": "execute_result",
          "data": {
            "text/plain": [
              "Text(0, 0.5, 'Infant Mortality Rate')"
            ]
          },
          "metadata": {
            "tags": []
          },
          "execution_count": 33
        },
        {
          "output_type": "display_data",
          "data": {
            "image/png": "[encoded data removed]",
            "text/plain": [
              "<Figure size 432x288 with 1 Axes>"
            ]
          },
          "metadata": {
            "tags": [],
            "needs_background": "light"
          }
        }
      ]
    },
    {
      "cell_type": "code",
      "metadata": {
        "colab": {
          "base_uri": "https://localhost:8080/"
        },
        "id": "xMueCFHtZ3Jb",
        "outputId": "fdcb9c42-346f-4952-a6a7-5d4646d1839e"
      },
      "source": [
        "y_preds.shape"
      ],
      "execution_count": null,
      "outputs": [
        {
          "output_type": "execute_result",
          "data": {
            "text/plain": [
              "(63, 1)"
            ]
          },
          "metadata": {
            "tags": []
          },
          "execution_count": 34
        }
      ]
    },
    {
      "cell_type": "code",
      "metadata": {
        "colab": {
          "base_uri": "https://localhost:8080/"
        },
        "id": "qw4YugmpU2C0",
        "outputId": "91533647-dc45-4ab0-ac80-809e5e17734f"
      },
      "source": [
        "y_test.isnull().value_counts()"
      ],
      "execution_count": null,
      "outputs": [
        {
          "output_type": "execute_result",
          "data": {
            "text/plain": [
              "Rate \n",
              "False    63\n",
              "dtype: int64"
            ]
          },
          "metadata": {
            "tags": []
          },
          "execution_count": 35
        }
      ]
    }
  ]
}