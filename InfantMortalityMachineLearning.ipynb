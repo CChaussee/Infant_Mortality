{
 "cells": [
  {
   "cell_type": "code",
   "execution_count": 1,
   "metadata": {
    "executionInfo": {
     "elapsed": 768,
     "status": "ok",
     "timestamp": 1622763771433,
     "user": {
      "displayName": "Isabelle DeMartin",
      "photoUrl": "",
      "userId": "16254610347000360182"
     },
     "user_tz": 420
    },
    "id": "P0PnXPqyc9yu"
   },
   "outputs": [],
   "source": [
    "import pandas as pd\n",
    "from sklearn.preprocessing import LabelEncoder\n"
   ]
  },
  {
   "cell_type": "code",
   "execution_count": 2,
   "metadata": {
    "executionInfo": {
     "elapsed": 8,
     "status": "ok",
     "timestamp": 1622763771435,
     "user": {
      "displayName": "Isabelle DeMartin",
      "photoUrl": "",
      "userId": "16254610347000360182"
     },
     "user_tz": 420
    },
    "id": "8mnMP08XMyRN"
   },
   "outputs": [],
   "source": [
    "infant_mortality=\"/content/drive/MyDrive/data/infant_mortality (1).csv\""
   ]
  },
  {
   "cell_type": "code",
   "execution_count": 3,
   "metadata": {
    "executionInfo": {
     "elapsed": 431,
     "status": "ok",
     "timestamp": 1622763771861,
     "user": {
      "displayName": "Isabelle DeMartin",
      "photoUrl": "",
      "userId": "16254610347000360182"
     },
     "user_tz": 420
    },
    "id": "4MQkqE5NNL1y"
   },
   "outputs": [],
   "source": [
    "df=pd.read_csv(infant_mortality)"
   ]
  },
  {
   "cell_type": "code",
   "execution_count": 4,
   "metadata": {
    "colab": {
     "base_uri": "https://localhost:8080/",
     "height": 379
    },
    "executionInfo": {
     "elapsed": 29,
     "status": "ok",
     "timestamp": 1622763771873,
     "user": {
      "displayName": "Isabelle DeMartin",
      "photoUrl": "",
      "userId": "16254610347000360182"
     },
     "user_tz": 420
    },
    "id": "FXcpQemNNhXI",
    "outputId": "df79e49d-3521-4347-d0d5-60b51bee0122"
   },
   "outputs": [
    {
     "data": {
      "text/html": [
       "<div>\n",
       "<style scoped>\n",
       "    .dataframe tbody tr th:only-of-type {\n",
       "        vertical-align: middle;\n",
       "    }\n",
       "\n",
       "    .dataframe tbody tr th {\n",
       "        vertical-align: top;\n",
       "    }\n",
       "\n",
       "    .dataframe thead th {\n",
       "        text-align: right;\n",
       "    }\n",
       "</style>\n",
       "<table border=\"1\" class=\"dataframe\">\n",
       "  <thead>\n",
       "    <tr style=\"text-align: right;\">\n",
       "      <th></th>\n",
       "      <th>Year</th>\n",
       "      <th>State</th>\n",
       "      <th>Rate</th>\n",
       "      <th>Deaths</th>\n",
       "      <th>Name</th>\n",
       "      <th>Population</th>\n",
       "      <th>PovertyCount</th>\n",
       "      <th>PovertyRate</th>\n",
       "      <th>UnemploymentRate</th>\n",
       "      <th>NoCompletedEducation</th>\n",
       "      <th>PopulationWithHighSchoolDiploma</th>\n",
       "      <th>PopulationWithAssociatesDegree</th>\n",
       "      <th>PopulationWithBachelorsDegree</th>\n",
       "      <th>WhitePop</th>\n",
       "      <th>BlackPop</th>\n",
       "      <th>NativeAmericanPop</th>\n",
       "      <th>AsianPop</th>\n",
       "      <th>NativeHawaiianPop</th>\n",
       "      <th>HispanicPop</th>\n",
       "      <th>TwoOrMoreRacesPop</th>\n",
       "    </tr>\n",
       "  </thead>\n",
       "  <tbody>\n",
       "    <tr>\n",
       "      <th>0</th>\n",
       "      <td>2019</td>\n",
       "      <td>AL</td>\n",
       "      <td>7.89</td>\n",
       "      <td>449</td>\n",
       "      <td>Alabama</td>\n",
       "      <td>4876250.0</td>\n",
       "      <td>795989.0</td>\n",
       "      <td>16.323794</td>\n",
       "      <td>2.708946</td>\n",
       "      <td>40837.0</td>\n",
       "      <td>841716.0</td>\n",
       "      <td>282316.0</td>\n",
       "      <td>529178.0</td>\n",
       "      <td>3320247.0</td>\n",
       "      <td>1299048.0</td>\n",
       "      <td>25565.0</td>\n",
       "      <td>66270.0</td>\n",
       "      <td>2238.0</td>\n",
       "      <td>208626.0</td>\n",
       "      <td>92220.0</td>\n",
       "    </tr>\n",
       "    <tr>\n",
       "      <th>1</th>\n",
       "      <td>2018</td>\n",
       "      <td>AL</td>\n",
       "      <td>6.94</td>\n",
       "      <td>401</td>\n",
       "      <td>Alabama</td>\n",
       "      <td>4864680.0</td>\n",
       "      <td>829400.0</td>\n",
       "      <td>17.049426</td>\n",
       "      <td>3.040241</td>\n",
       "      <td>41240.0</td>\n",
       "      <td>838776.0</td>\n",
       "      <td>273493.0</td>\n",
       "      <td>515443.0</td>\n",
       "      <td>3317453.0</td>\n",
       "      <td>1293186.0</td>\n",
       "      <td>25576.0</td>\n",
       "      <td>64609.0</td>\n",
       "      <td>2182.0</td>\n",
       "      <td>203146.0</td>\n",
       "      <td>91619.0</td>\n",
       "    </tr>\n",
       "    <tr>\n",
       "      <th>2</th>\n",
       "      <td>2017</td>\n",
       "      <td>AL</td>\n",
       "      <td>7.38</td>\n",
       "      <td>435</td>\n",
       "      <td>Alabama</td>\n",
       "      <td>4864680.0</td>\n",
       "      <td>829400.0</td>\n",
       "      <td>17.049426</td>\n",
       "      <td>3.040241</td>\n",
       "      <td>41240.0</td>\n",
       "      <td>838776.0</td>\n",
       "      <td>273493.0</td>\n",
       "      <td>515443.0</td>\n",
       "      <td>3317453.0</td>\n",
       "      <td>1293186.0</td>\n",
       "      <td>25576.0</td>\n",
       "      <td>64609.0</td>\n",
       "      <td>2182.0</td>\n",
       "      <td>203146.0</td>\n",
       "      <td>91619.0</td>\n",
       "    </tr>\n",
       "    <tr>\n",
       "      <th>3</th>\n",
       "      <td>2016</td>\n",
       "      <td>AL</td>\n",
       "      <td>9.03</td>\n",
       "      <td>534</td>\n",
       "      <td>Alabama</td>\n",
       "      <td>4841164.0</td>\n",
       "      <td>868666.0</td>\n",
       "      <td>17.943329</td>\n",
       "      <td>3.810633</td>\n",
       "      <td>42577.0</td>\n",
       "      <td>828205.0</td>\n",
       "      <td>258502.0</td>\n",
       "      <td>492382.0</td>\n",
       "      <td>3325037.0</td>\n",
       "      <td>1282053.0</td>\n",
       "      <td>23919.0</td>\n",
       "      <td>60744.0</td>\n",
       "      <td>2008.0</td>\n",
       "      <td>193503.0</td>\n",
       "      <td>85412.0</td>\n",
       "    </tr>\n",
       "    <tr>\n",
       "      <th>4</th>\n",
       "      <td>2015</td>\n",
       "      <td>AL</td>\n",
       "      <td>8.31</td>\n",
       "      <td>496</td>\n",
       "      <td>Alabama</td>\n",
       "      <td>4830620.0</td>\n",
       "      <td>887260.0</td>\n",
       "      <td>18.367415</td>\n",
       "      <td>4.287172</td>\n",
       "      <td>41876.0</td>\n",
       "      <td>826272.0</td>\n",
       "      <td>251335.0</td>\n",
       "      <td>478812.0</td>\n",
       "      <td>3325464.0</td>\n",
       "      <td>1276544.0</td>\n",
       "      <td>23850.0</td>\n",
       "      <td>59599.0</td>\n",
       "      <td>2439.0</td>\n",
       "      <td>193492.0</td>\n",
       "      <td>81646.0</td>\n",
       "    </tr>\n",
       "    <tr>\n",
       "      <th>5</th>\n",
       "      <td>2019</td>\n",
       "      <td>AK</td>\n",
       "      <td>4.81</td>\n",
       "      <td>48</td>\n",
       "      <td>Alaska</td>\n",
       "      <td>737068.0</td>\n",
       "      <td>76933.0</td>\n",
       "      <td>10.437707</td>\n",
       "      <td>3.637114</td>\n",
       "      <td>3434.0</td>\n",
       "      <td>108797.0</td>\n",
       "      <td>41109.0</td>\n",
       "      <td>88058.0</td>\n",
       "      <td>476015.0</td>\n",
       "      <td>24205.0</td>\n",
       "      <td>109751.0</td>\n",
       "      <td>45920.0</td>\n",
       "      <td>9204.0</td>\n",
       "      <td>51870.0</td>\n",
       "      <td>60665.0</td>\n",
       "    </tr>\n",
       "    <tr>\n",
       "      <th>6</th>\n",
       "      <td>2018</td>\n",
       "      <td>AK</td>\n",
       "      <td>6.25</td>\n",
       "      <td>63</td>\n",
       "      <td>Alaska</td>\n",
       "      <td>738516.0</td>\n",
       "      <td>77865.0</td>\n",
       "      <td>10.543441</td>\n",
       "      <td>3.800459</td>\n",
       "      <td>3479.0</td>\n",
       "      <td>107913.0</td>\n",
       "      <td>40052.0</td>\n",
       "      <td>88053.0</td>\n",
       "      <td>478834.0</td>\n",
       "      <td>24129.0</td>\n",
       "      <td>106660.0</td>\n",
       "      <td>46556.0</td>\n",
       "      <td>8849.0</td>\n",
       "      <td>51186.0</td>\n",
       "      <td>62461.0</td>\n",
       "    </tr>\n",
       "    <tr>\n",
       "      <th>7</th>\n",
       "      <td>2017</td>\n",
       "      <td>AK</td>\n",
       "      <td>5.74</td>\n",
       "      <td>60</td>\n",
       "      <td>Alaska</td>\n",
       "      <td>738516.0</td>\n",
       "      <td>77865.0</td>\n",
       "      <td>10.543441</td>\n",
       "      <td>3.800459</td>\n",
       "      <td>3479.0</td>\n",
       "      <td>107913.0</td>\n",
       "      <td>40052.0</td>\n",
       "      <td>88053.0</td>\n",
       "      <td>478834.0</td>\n",
       "      <td>24129.0</td>\n",
       "      <td>106660.0</td>\n",
       "      <td>46556.0</td>\n",
       "      <td>8849.0</td>\n",
       "      <td>51186.0</td>\n",
       "      <td>62461.0</td>\n",
       "    </tr>\n",
       "    <tr>\n",
       "      <th>8</th>\n",
       "      <td>2016</td>\n",
       "      <td>AK</td>\n",
       "      <td>5.17</td>\n",
       "      <td>58</td>\n",
       "      <td>Alaska</td>\n",
       "      <td>736855.0</td>\n",
       "      <td>72826.0</td>\n",
       "      <td>9.883356</td>\n",
       "      <td>4.090221</td>\n",
       "      <td>3020.0</td>\n",
       "      <td>106169.0</td>\n",
       "      <td>39133.0</td>\n",
       "      <td>86551.0</td>\n",
       "      <td>483518.0</td>\n",
       "      <td>24443.0</td>\n",
       "      <td>103574.0</td>\n",
       "      <td>44218.0</td>\n",
       "      <td>8862.0</td>\n",
       "      <td>49031.0</td>\n",
       "      <td>62340.0</td>\n",
       "    </tr>\n",
       "    <tr>\n",
       "      <th>9</th>\n",
       "      <td>2015</td>\n",
       "      <td>AK</td>\n",
       "      <td>6.91</td>\n",
       "      <td>78</td>\n",
       "      <td>Alaska</td>\n",
       "      <td>733375.0</td>\n",
       "      <td>72957.0</td>\n",
       "      <td>9.948117</td>\n",
       "      <td>4.265894</td>\n",
       "      <td>2977.0</td>\n",
       "      <td>105527.0</td>\n",
       "      <td>37719.0</td>\n",
       "      <td>83201.0</td>\n",
       "      <td>484250.0</td>\n",
       "      <td>25022.0</td>\n",
       "      <td>101313.0</td>\n",
       "      <td>42921.0</td>\n",
       "      <td>8841.0</td>\n",
       "      <td>47808.0</td>\n",
       "      <td>61755.0</td>\n",
       "    </tr>\n",
       "  </tbody>\n",
       "</table>\n",
       "</div>"
      ],
      "text/plain": [
       "   Year State  Rate  ...  NativeHawaiianPop HispanicPop  TwoOrMoreRacesPop\n",
       "0  2019    AL  7.89  ...             2238.0    208626.0            92220.0\n",
       "1  2018    AL  6.94  ...             2182.0    203146.0            91619.0\n",
       "2  2017    AL  7.38  ...             2182.0    203146.0            91619.0\n",
       "3  2016    AL  9.03  ...             2008.0    193503.0            85412.0\n",
       "4  2015    AL  8.31  ...             2439.0    193492.0            81646.0\n",
       "5  2019    AK  4.81  ...             9204.0     51870.0            60665.0\n",
       "6  2018    AK  6.25  ...             8849.0     51186.0            62461.0\n",
       "7  2017    AK  5.74  ...             8849.0     51186.0            62461.0\n",
       "8  2016    AK  5.17  ...             8862.0     49031.0            62340.0\n",
       "9  2015    AK  6.91  ...             8841.0     47808.0            61755.0\n",
       "\n",
       "[10 rows x 20 columns]"
      ]
     },
     "execution_count": 4,
     "metadata": {
      "tags": []
     },
     "output_type": "execute_result"
    }
   ],
   "source": [
    "df.head(10)"
   ]
  },
  {
   "cell_type": "code",
   "execution_count": 50,
   "metadata": {
    "colab": {
     "base_uri": "https://localhost:8080/"
    },
    "executionInfo": {
     "elapsed": 151,
     "status": "ok",
     "timestamp": 1622765103185,
     "user": {
      "displayName": "Isabelle DeMartin",
      "photoUrl": "",
      "userId": "16254610347000360182"
     },
     "user_tz": 420
    },
    "id": "pEBwKInmVu10",
    "outputId": "b8b24c05-3cf2-41a3-8991-2505a89f4126"
   },
   "outputs": [
    {
     "data": {
      "text/plain": [
       "False    250\n",
       "Name: Rate, dtype: int64"
      ]
     },
     "execution_count": 50,
     "metadata": {
      "tags": []
     },
     "output_type": "execute_result"
    }
   ],
   "source": [
    "(df.Rate==\"Unreliable\").value_counts()"
   ]
  },
  {
   "cell_type": "code",
   "execution_count": 51,
   "metadata": {
    "colab": {
     "base_uri": "https://localhost:8080/",
     "height": 100
    },
    "executionInfo": {
     "elapsed": 202,
     "status": "ok",
     "timestamp": 1622765113850,
     "user": {
      "displayName": "Isabelle DeMartin",
      "photoUrl": "",
      "userId": "16254610347000360182"
     },
     "user_tz": 420
    },
    "id": "tJfOwX1hWfNe",
    "outputId": "0b467299-bd09-4f67-b29f-47393768411e"
   },
   "outputs": [
    {
     "data": {
      "text/html": [
       "<div>\n",
       "<style scoped>\n",
       "    .dataframe tbody tr th:only-of-type {\n",
       "        vertical-align: middle;\n",
       "    }\n",
       "\n",
       "    .dataframe tbody tr th {\n",
       "        vertical-align: top;\n",
       "    }\n",
       "\n",
       "    .dataframe thead th {\n",
       "        text-align: right;\n",
       "    }\n",
       "</style>\n",
       "<table border=\"1\" class=\"dataframe\">\n",
       "  <thead>\n",
       "    <tr style=\"text-align: right;\">\n",
       "      <th></th>\n",
       "      <th>Year</th>\n",
       "      <th>State</th>\n",
       "      <th>Rate</th>\n",
       "      <th>Deaths</th>\n",
       "      <th>Name</th>\n",
       "      <th>Population</th>\n",
       "      <th>PovertyCount</th>\n",
       "      <th>PovertyRate</th>\n",
       "      <th>UnemploymentRate</th>\n",
       "      <th>NoCompletedEducation</th>\n",
       "      <th>PopulationWithHighSchoolDiploma</th>\n",
       "      <th>PopulationWithAssociatesDegree</th>\n",
       "      <th>PopulationWithBachelorsDegree</th>\n",
       "      <th>WhitePop</th>\n",
       "      <th>BlackPop</th>\n",
       "      <th>NativeAmericanPop</th>\n",
       "      <th>AsianPop</th>\n",
       "      <th>NativeHawaiianPop</th>\n",
       "      <th>HispanicPop</th>\n",
       "      <th>TwoOrMoreRacesPop</th>\n",
       "    </tr>\n",
       "  </thead>\n",
       "  <tbody>\n",
       "    <tr>\n",
       "      <th>220</th>\n",
       "      <td>2019</td>\n",
       "      <td>VT</td>\n",
       "      <td>3</td>\n",
       "      <td>15</td>\n",
       "      <td>Vermont</td>\n",
       "      <td>624313.0</td>\n",
       "      <td>65652.0</td>\n",
       "      <td>10.515879</td>\n",
       "      <td>1.97385</td>\n",
       "      <td>2715.0</td>\n",
       "      <td>111530.0</td>\n",
       "      <td>38518.0</td>\n",
       "      <td>99016.0</td>\n",
       "      <td>587883.0</td>\n",
       "      <td>8502.0</td>\n",
       "      <td>2132.0</td>\n",
       "      <td>10461.0</td>\n",
       "      <td>325.0</td>\n",
       "      <td>12038.0</td>\n",
       "      <td>12600.0</td>\n",
       "    </tr>\n",
       "  </tbody>\n",
       "</table>\n",
       "</div>"
      ],
      "text/plain": [
       "     Year State Rate  ...  NativeHawaiianPop HispanicPop  TwoOrMoreRacesPop\n",
       "220  2019    VT    3  ...              325.0     12038.0            12600.0\n",
       "\n",
       "[1 rows x 20 columns]"
      ]
     },
     "execution_count": 51,
     "metadata": {
      "tags": []
     },
     "output_type": "execute_result"
    }
   ],
   "source": [
    "df.loc[(df.Name==\"Vermont\")&(df.Year==2019)]"
   ]
  },
  {
   "cell_type": "code",
   "execution_count": 7,
   "metadata": {
    "executionInfo": {
     "elapsed": 67,
     "status": "ok",
     "timestamp": 1622763772167,
     "user": {
      "displayName": "Isabelle DeMartin",
      "photoUrl": "",
      "userId": "16254610347000360182"
     },
     "user_tz": 420
    },
    "id": "4OIPCd0dpqZV"
   },
   "outputs": [],
   "source": [
    "df.at[220,\"Rate\"]=3"
   ]
  },
  {
   "cell_type": "code",
   "execution_count": 8,
   "metadata": {
    "colab": {
     "base_uri": "https://localhost:8080/"
    },
    "executionInfo": {
     "elapsed": 67,
     "status": "ok",
     "timestamp": 1622763772168,
     "user": {
      "displayName": "Isabelle DeMartin",
      "photoUrl": "",
      "userId": "16254610347000360182"
     },
     "user_tz": 420
    },
    "id": "96u7mfNKNqpf",
    "outputId": "962cb95c-b57f-4fe6-90b6-87b1e097db2e"
   },
   "outputs": [
    {
     "data": {
      "text/plain": [
       "Index(['Year', 'State', 'Rate', 'Deaths', 'Name', 'Population', 'PovertyCount',\n",
       "       'PovertyRate', 'UnemploymentRate', 'NoCompletedEducation',\n",
       "       'PopulationWithHighSchoolDiploma', 'PopulationWithAssociatesDegree',\n",
       "       'PopulationWithBachelorsDegree', 'WhitePop', 'BlackPop',\n",
       "       'NativeAmericanPop', 'AsianPop', 'NativeHawaiianPop', 'HispanicPop',\n",
       "       'TwoOrMoreRacesPop'],\n",
       "      dtype='object')"
      ]
     },
     "execution_count": 8,
     "metadata": {
      "tags": []
     },
     "output_type": "execute_result"
    }
   ],
   "source": [
    "df.columns"
   ]
  },
  {
   "cell_type": "code",
   "execution_count": 9,
   "metadata": {
    "executionInfo": {
     "elapsed": 64,
     "status": "ok",
     "timestamp": 1622763772169,
     "user": {
      "displayName": "Isabelle DeMartin",
      "photoUrl": "",
      "userId": "16254610347000360182"
     },
     "user_tz": 420
    },
    "id": "uPndHfTqObGo"
   },
   "outputs": [],
   "source": [
    "y=df[[\"Rate\"]]"
   ]
  },
  {
   "cell_type": "code",
   "execution_count": 10,
   "metadata": {
    "executionInfo": {
     "elapsed": 65,
     "status": "ok",
     "timestamp": 1622763772171,
     "user": {
      "displayName": "Isabelle DeMartin",
      "photoUrl": "",
      "userId": "16254610347000360182"
     },
     "user_tz": 420
    },
    "id": "q7vmLhp7PY0Y"
   },
   "outputs": [],
   "source": [
    "X=df.drop(columns=[\"Name\", \"Rate\", \"Deaths\",])"
   ]
  },
  {
   "cell_type": "code",
   "execution_count": 11,
   "metadata": {
    "colab": {
     "base_uri": "https://localhost:8080/",
     "height": 224
    },
    "executionInfo": {
     "elapsed": 65,
     "status": "ok",
     "timestamp": 1622763772172,
     "user": {
      "displayName": "Isabelle DeMartin",
      "photoUrl": "",
      "userId": "16254610347000360182"
     },
     "user_tz": 420
    },
    "id": "ldXwv08ES7sz",
    "outputId": "aacafba9-9f78-4534-8e59-de93a94eafef"
   },
   "outputs": [
    {
     "data": {
      "text/html": [
       "<div>\n",
       "<style scoped>\n",
       "    .dataframe tbody tr th:only-of-type {\n",
       "        vertical-align: middle;\n",
       "    }\n",
       "\n",
       "    .dataframe tbody tr th {\n",
       "        vertical-align: top;\n",
       "    }\n",
       "\n",
       "    .dataframe thead th {\n",
       "        text-align: right;\n",
       "    }\n",
       "</style>\n",
       "<table border=\"1\" class=\"dataframe\">\n",
       "  <thead>\n",
       "    <tr style=\"text-align: right;\">\n",
       "      <th></th>\n",
       "      <th>Year</th>\n",
       "      <th>State</th>\n",
       "      <th>Population</th>\n",
       "      <th>PovertyCount</th>\n",
       "      <th>PovertyRate</th>\n",
       "      <th>UnemploymentRate</th>\n",
       "      <th>NoCompletedEducation</th>\n",
       "      <th>PopulationWithHighSchoolDiploma</th>\n",
       "      <th>PopulationWithAssociatesDegree</th>\n",
       "      <th>PopulationWithBachelorsDegree</th>\n",
       "      <th>WhitePop</th>\n",
       "      <th>BlackPop</th>\n",
       "      <th>NativeAmericanPop</th>\n",
       "      <th>AsianPop</th>\n",
       "      <th>NativeHawaiianPop</th>\n",
       "      <th>HispanicPop</th>\n",
       "      <th>TwoOrMoreRacesPop</th>\n",
       "    </tr>\n",
       "  </thead>\n",
       "  <tbody>\n",
       "    <tr>\n",
       "      <th>0</th>\n",
       "      <td>2019</td>\n",
       "      <td>AL</td>\n",
       "      <td>4876250.0</td>\n",
       "      <td>795989.0</td>\n",
       "      <td>16.323794</td>\n",
       "      <td>2.708946</td>\n",
       "      <td>40837.0</td>\n",
       "      <td>841716.0</td>\n",
       "      <td>282316.0</td>\n",
       "      <td>529178.0</td>\n",
       "      <td>3320247.0</td>\n",
       "      <td>1299048.0</td>\n",
       "      <td>25565.0</td>\n",
       "      <td>66270.0</td>\n",
       "      <td>2238.0</td>\n",
       "      <td>208626.0</td>\n",
       "      <td>92220.0</td>\n",
       "    </tr>\n",
       "    <tr>\n",
       "      <th>1</th>\n",
       "      <td>2018</td>\n",
       "      <td>AL</td>\n",
       "      <td>4864680.0</td>\n",
       "      <td>829400.0</td>\n",
       "      <td>17.049426</td>\n",
       "      <td>3.040241</td>\n",
       "      <td>41240.0</td>\n",
       "      <td>838776.0</td>\n",
       "      <td>273493.0</td>\n",
       "      <td>515443.0</td>\n",
       "      <td>3317453.0</td>\n",
       "      <td>1293186.0</td>\n",
       "      <td>25576.0</td>\n",
       "      <td>64609.0</td>\n",
       "      <td>2182.0</td>\n",
       "      <td>203146.0</td>\n",
       "      <td>91619.0</td>\n",
       "    </tr>\n",
       "    <tr>\n",
       "      <th>2</th>\n",
       "      <td>2017</td>\n",
       "      <td>AL</td>\n",
       "      <td>4864680.0</td>\n",
       "      <td>829400.0</td>\n",
       "      <td>17.049426</td>\n",
       "      <td>3.040241</td>\n",
       "      <td>41240.0</td>\n",
       "      <td>838776.0</td>\n",
       "      <td>273493.0</td>\n",
       "      <td>515443.0</td>\n",
       "      <td>3317453.0</td>\n",
       "      <td>1293186.0</td>\n",
       "      <td>25576.0</td>\n",
       "      <td>64609.0</td>\n",
       "      <td>2182.0</td>\n",
       "      <td>203146.0</td>\n",
       "      <td>91619.0</td>\n",
       "    </tr>\n",
       "    <tr>\n",
       "      <th>3</th>\n",
       "      <td>2016</td>\n",
       "      <td>AL</td>\n",
       "      <td>4841164.0</td>\n",
       "      <td>868666.0</td>\n",
       "      <td>17.943329</td>\n",
       "      <td>3.810633</td>\n",
       "      <td>42577.0</td>\n",
       "      <td>828205.0</td>\n",
       "      <td>258502.0</td>\n",
       "      <td>492382.0</td>\n",
       "      <td>3325037.0</td>\n",
       "      <td>1282053.0</td>\n",
       "      <td>23919.0</td>\n",
       "      <td>60744.0</td>\n",
       "      <td>2008.0</td>\n",
       "      <td>193503.0</td>\n",
       "      <td>85412.0</td>\n",
       "    </tr>\n",
       "    <tr>\n",
       "      <th>4</th>\n",
       "      <td>2015</td>\n",
       "      <td>AL</td>\n",
       "      <td>4830620.0</td>\n",
       "      <td>887260.0</td>\n",
       "      <td>18.367415</td>\n",
       "      <td>4.287172</td>\n",
       "      <td>41876.0</td>\n",
       "      <td>826272.0</td>\n",
       "      <td>251335.0</td>\n",
       "      <td>478812.0</td>\n",
       "      <td>3325464.0</td>\n",
       "      <td>1276544.0</td>\n",
       "      <td>23850.0</td>\n",
       "      <td>59599.0</td>\n",
       "      <td>2439.0</td>\n",
       "      <td>193492.0</td>\n",
       "      <td>81646.0</td>\n",
       "    </tr>\n",
       "  </tbody>\n",
       "</table>\n",
       "</div>"
      ],
      "text/plain": [
       "   Year State  Population  ...  NativeHawaiianPop  HispanicPop  TwoOrMoreRacesPop\n",
       "0  2019    AL   4876250.0  ...             2238.0     208626.0            92220.0\n",
       "1  2018    AL   4864680.0  ...             2182.0     203146.0            91619.0\n",
       "2  2017    AL   4864680.0  ...             2182.0     203146.0            91619.0\n",
       "3  2016    AL   4841164.0  ...             2008.0     193503.0            85412.0\n",
       "4  2015    AL   4830620.0  ...             2439.0     193492.0            81646.0\n",
       "\n",
       "[5 rows x 17 columns]"
      ]
     },
     "execution_count": 11,
     "metadata": {
      "tags": []
     },
     "output_type": "execute_result"
    }
   ],
   "source": [
    "X.head()"
   ]
  },
  {
   "cell_type": "code",
   "execution_count": 12,
   "metadata": {
    "colab": {
     "base_uri": "https://localhost:8080/",
     "height": 224
    },
    "executionInfo": {
     "elapsed": 333,
     "status": "ok",
     "timestamp": 1622763772444,
     "user": {
      "displayName": "Isabelle DeMartin",
      "photoUrl": "",
      "userId": "16254610347000360182"
     },
     "user_tz": 420
    },
    "id": "EZHcUAUGPgbW",
    "outputId": "3043316d-1142-4940-dc07-b9be70b0a1e1"
   },
   "outputs": [
    {
     "data": {
      "text/html": [
       "<div>\n",
       "<style scoped>\n",
       "    .dataframe tbody tr th:only-of-type {\n",
       "        vertical-align: middle;\n",
       "    }\n",
       "\n",
       "    .dataframe tbody tr th {\n",
       "        vertical-align: top;\n",
       "    }\n",
       "\n",
       "    .dataframe thead th {\n",
       "        text-align: right;\n",
       "    }\n",
       "</style>\n",
       "<table border=\"1\" class=\"dataframe\">\n",
       "  <thead>\n",
       "    <tr style=\"text-align: right;\">\n",
       "      <th></th>\n",
       "      <th>Year</th>\n",
       "      <th>State</th>\n",
       "      <th>Population</th>\n",
       "      <th>PovertyCount</th>\n",
       "      <th>PovertyRate</th>\n",
       "      <th>UnemploymentRate</th>\n",
       "      <th>NoCompletedEducation</th>\n",
       "      <th>PopulationWithHighSchoolDiploma</th>\n",
       "      <th>PopulationWithAssociatesDegree</th>\n",
       "      <th>PopulationWithBachelorsDegree</th>\n",
       "      <th>WhitePop</th>\n",
       "      <th>BlackPop</th>\n",
       "      <th>NativeAmericanPop</th>\n",
       "      <th>AsianPop</th>\n",
       "      <th>NativeHawaiianPop</th>\n",
       "      <th>HispanicPop</th>\n",
       "      <th>TwoOrMoreRacesPop</th>\n",
       "    </tr>\n",
       "  </thead>\n",
       "  <tbody>\n",
       "    <tr>\n",
       "      <th>0</th>\n",
       "      <td>2019</td>\n",
       "      <td>AL</td>\n",
       "      <td>4876250.0</td>\n",
       "      <td>795989.0</td>\n",
       "      <td>16.323794</td>\n",
       "      <td>2.708946</td>\n",
       "      <td>40837.0</td>\n",
       "      <td>841716.0</td>\n",
       "      <td>282316.0</td>\n",
       "      <td>529178.0</td>\n",
       "      <td>3320247.0</td>\n",
       "      <td>1299048.0</td>\n",
       "      <td>25565.0</td>\n",
       "      <td>66270.0</td>\n",
       "      <td>2238.0</td>\n",
       "      <td>208626.0</td>\n",
       "      <td>92220.0</td>\n",
       "    </tr>\n",
       "    <tr>\n",
       "      <th>1</th>\n",
       "      <td>2018</td>\n",
       "      <td>AL</td>\n",
       "      <td>4864680.0</td>\n",
       "      <td>829400.0</td>\n",
       "      <td>17.049426</td>\n",
       "      <td>3.040241</td>\n",
       "      <td>41240.0</td>\n",
       "      <td>838776.0</td>\n",
       "      <td>273493.0</td>\n",
       "      <td>515443.0</td>\n",
       "      <td>3317453.0</td>\n",
       "      <td>1293186.0</td>\n",
       "      <td>25576.0</td>\n",
       "      <td>64609.0</td>\n",
       "      <td>2182.0</td>\n",
       "      <td>203146.0</td>\n",
       "      <td>91619.0</td>\n",
       "    </tr>\n",
       "    <tr>\n",
       "      <th>2</th>\n",
       "      <td>2017</td>\n",
       "      <td>AL</td>\n",
       "      <td>4864680.0</td>\n",
       "      <td>829400.0</td>\n",
       "      <td>17.049426</td>\n",
       "      <td>3.040241</td>\n",
       "      <td>41240.0</td>\n",
       "      <td>838776.0</td>\n",
       "      <td>273493.0</td>\n",
       "      <td>515443.0</td>\n",
       "      <td>3317453.0</td>\n",
       "      <td>1293186.0</td>\n",
       "      <td>25576.0</td>\n",
       "      <td>64609.0</td>\n",
       "      <td>2182.0</td>\n",
       "      <td>203146.0</td>\n",
       "      <td>91619.0</td>\n",
       "    </tr>\n",
       "    <tr>\n",
       "      <th>3</th>\n",
       "      <td>2016</td>\n",
       "      <td>AL</td>\n",
       "      <td>4841164.0</td>\n",
       "      <td>868666.0</td>\n",
       "      <td>17.943329</td>\n",
       "      <td>3.810633</td>\n",
       "      <td>42577.0</td>\n",
       "      <td>828205.0</td>\n",
       "      <td>258502.0</td>\n",
       "      <td>492382.0</td>\n",
       "      <td>3325037.0</td>\n",
       "      <td>1282053.0</td>\n",
       "      <td>23919.0</td>\n",
       "      <td>60744.0</td>\n",
       "      <td>2008.0</td>\n",
       "      <td>193503.0</td>\n",
       "      <td>85412.0</td>\n",
       "    </tr>\n",
       "    <tr>\n",
       "      <th>4</th>\n",
       "      <td>2015</td>\n",
       "      <td>AL</td>\n",
       "      <td>4830620.0</td>\n",
       "      <td>887260.0</td>\n",
       "      <td>18.367415</td>\n",
       "      <td>4.287172</td>\n",
       "      <td>41876.0</td>\n",
       "      <td>826272.0</td>\n",
       "      <td>251335.0</td>\n",
       "      <td>478812.0</td>\n",
       "      <td>3325464.0</td>\n",
       "      <td>1276544.0</td>\n",
       "      <td>23850.0</td>\n",
       "      <td>59599.0</td>\n",
       "      <td>2439.0</td>\n",
       "      <td>193492.0</td>\n",
       "      <td>81646.0</td>\n",
       "    </tr>\n",
       "  </tbody>\n",
       "</table>\n",
       "</div>"
      ],
      "text/plain": [
       "   Year State  Population  ...  NativeHawaiianPop  HispanicPop  TwoOrMoreRacesPop\n",
       "0  2019    AL   4876250.0  ...             2238.0     208626.0            92220.0\n",
       "1  2018    AL   4864680.0  ...             2182.0     203146.0            91619.0\n",
       "2  2017    AL   4864680.0  ...             2182.0     203146.0            91619.0\n",
       "3  2016    AL   4841164.0  ...             2008.0     193503.0            85412.0\n",
       "4  2015    AL   4830620.0  ...             2439.0     193492.0            81646.0\n",
       "\n",
       "[5 rows x 17 columns]"
      ]
     },
     "execution_count": 12,
     "metadata": {
      "tags": []
     },
     "output_type": "execute_result"
    }
   ],
   "source": [
    "X.head()"
   ]
  },
  {
   "cell_type": "code",
   "execution_count": 13,
   "metadata": {
    "executionInfo": {
     "elapsed": 88,
     "status": "ok",
     "timestamp": 1622763772463,
     "user": {
      "displayName": "Isabelle DeMartin",
      "photoUrl": "",
      "userId": "16254610347000360182"
     },
     "user_tz": 420
    },
    "id": "ic3Bbu0gP8En"
   },
   "outputs": [],
   "source": [
    "X_cat=df[[\"State\"]].copy()"
   ]
  },
  {
   "cell_type": "code",
   "execution_count": 14,
   "metadata": {
    "executionInfo": {
     "elapsed": 91,
     "status": "ok",
     "timestamp": 1622763772471,
     "user": {
      "displayName": "Isabelle DeMartin",
      "photoUrl": "",
      "userId": "16254610347000360182"
     },
     "user_tz": 420
    },
    "id": "cAIKFGR1QZaG"
   },
   "outputs": [],
   "source": [
    "X_num=X.drop(columns=[\"State\"])"
   ]
  },
  {
   "cell_type": "code",
   "execution_count": 15,
   "metadata": {
    "colab": {
     "base_uri": "https://localhost:8080/",
     "height": 224
    },
    "executionInfo": {
     "elapsed": 76,
     "status": "ok",
     "timestamp": 1622763772482,
     "user": {
      "displayName": "Isabelle DeMartin",
      "photoUrl": "",
      "userId": "16254610347000360182"
     },
     "user_tz": 420
    },
    "id": "EuE75SDjQsH_",
    "outputId": "de066e36-f69d-4b2f-b5a4-89d659846946"
   },
   "outputs": [
    {
     "data": {
      "text/html": [
       "<div>\n",
       "<style scoped>\n",
       "    .dataframe tbody tr th:only-of-type {\n",
       "        vertical-align: middle;\n",
       "    }\n",
       "\n",
       "    .dataframe tbody tr th {\n",
       "        vertical-align: top;\n",
       "    }\n",
       "\n",
       "    .dataframe thead th {\n",
       "        text-align: right;\n",
       "    }\n",
       "</style>\n",
       "<table border=\"1\" class=\"dataframe\">\n",
       "  <thead>\n",
       "    <tr style=\"text-align: right;\">\n",
       "      <th></th>\n",
       "      <th>Year</th>\n",
       "      <th>Population</th>\n",
       "      <th>PovertyCount</th>\n",
       "      <th>PovertyRate</th>\n",
       "      <th>UnemploymentRate</th>\n",
       "      <th>NoCompletedEducation</th>\n",
       "      <th>PopulationWithHighSchoolDiploma</th>\n",
       "      <th>PopulationWithAssociatesDegree</th>\n",
       "      <th>PopulationWithBachelorsDegree</th>\n",
       "      <th>WhitePop</th>\n",
       "      <th>BlackPop</th>\n",
       "      <th>NativeAmericanPop</th>\n",
       "      <th>AsianPop</th>\n",
       "      <th>NativeHawaiianPop</th>\n",
       "      <th>HispanicPop</th>\n",
       "      <th>TwoOrMoreRacesPop</th>\n",
       "    </tr>\n",
       "  </thead>\n",
       "  <tbody>\n",
       "    <tr>\n",
       "      <th>0</th>\n",
       "      <td>2019</td>\n",
       "      <td>4876250.0</td>\n",
       "      <td>795989.0</td>\n",
       "      <td>16.323794</td>\n",
       "      <td>2.708946</td>\n",
       "      <td>40837.0</td>\n",
       "      <td>841716.0</td>\n",
       "      <td>282316.0</td>\n",
       "      <td>529178.0</td>\n",
       "      <td>3320247.0</td>\n",
       "      <td>1299048.0</td>\n",
       "      <td>25565.0</td>\n",
       "      <td>66270.0</td>\n",
       "      <td>2238.0</td>\n",
       "      <td>208626.0</td>\n",
       "      <td>92220.0</td>\n",
       "    </tr>\n",
       "    <tr>\n",
       "      <th>1</th>\n",
       "      <td>2018</td>\n",
       "      <td>4864680.0</td>\n",
       "      <td>829400.0</td>\n",
       "      <td>17.049426</td>\n",
       "      <td>3.040241</td>\n",
       "      <td>41240.0</td>\n",
       "      <td>838776.0</td>\n",
       "      <td>273493.0</td>\n",
       "      <td>515443.0</td>\n",
       "      <td>3317453.0</td>\n",
       "      <td>1293186.0</td>\n",
       "      <td>25576.0</td>\n",
       "      <td>64609.0</td>\n",
       "      <td>2182.0</td>\n",
       "      <td>203146.0</td>\n",
       "      <td>91619.0</td>\n",
       "    </tr>\n",
       "    <tr>\n",
       "      <th>2</th>\n",
       "      <td>2017</td>\n",
       "      <td>4864680.0</td>\n",
       "      <td>829400.0</td>\n",
       "      <td>17.049426</td>\n",
       "      <td>3.040241</td>\n",
       "      <td>41240.0</td>\n",
       "      <td>838776.0</td>\n",
       "      <td>273493.0</td>\n",
       "      <td>515443.0</td>\n",
       "      <td>3317453.0</td>\n",
       "      <td>1293186.0</td>\n",
       "      <td>25576.0</td>\n",
       "      <td>64609.0</td>\n",
       "      <td>2182.0</td>\n",
       "      <td>203146.0</td>\n",
       "      <td>91619.0</td>\n",
       "    </tr>\n",
       "    <tr>\n",
       "      <th>3</th>\n",
       "      <td>2016</td>\n",
       "      <td>4841164.0</td>\n",
       "      <td>868666.0</td>\n",
       "      <td>17.943329</td>\n",
       "      <td>3.810633</td>\n",
       "      <td>42577.0</td>\n",
       "      <td>828205.0</td>\n",
       "      <td>258502.0</td>\n",
       "      <td>492382.0</td>\n",
       "      <td>3325037.0</td>\n",
       "      <td>1282053.0</td>\n",
       "      <td>23919.0</td>\n",
       "      <td>60744.0</td>\n",
       "      <td>2008.0</td>\n",
       "      <td>193503.0</td>\n",
       "      <td>85412.0</td>\n",
       "    </tr>\n",
       "    <tr>\n",
       "      <th>4</th>\n",
       "      <td>2015</td>\n",
       "      <td>4830620.0</td>\n",
       "      <td>887260.0</td>\n",
       "      <td>18.367415</td>\n",
       "      <td>4.287172</td>\n",
       "      <td>41876.0</td>\n",
       "      <td>826272.0</td>\n",
       "      <td>251335.0</td>\n",
       "      <td>478812.0</td>\n",
       "      <td>3325464.0</td>\n",
       "      <td>1276544.0</td>\n",
       "      <td>23850.0</td>\n",
       "      <td>59599.0</td>\n",
       "      <td>2439.0</td>\n",
       "      <td>193492.0</td>\n",
       "      <td>81646.0</td>\n",
       "    </tr>\n",
       "  </tbody>\n",
       "</table>\n",
       "</div>"
      ],
      "text/plain": [
       "   Year  Population  ...  HispanicPop  TwoOrMoreRacesPop\n",
       "0  2019   4876250.0  ...     208626.0            92220.0\n",
       "1  2018   4864680.0  ...     203146.0            91619.0\n",
       "2  2017   4864680.0  ...     203146.0            91619.0\n",
       "3  2016   4841164.0  ...     193503.0            85412.0\n",
       "4  2015   4830620.0  ...     193492.0            81646.0\n",
       "\n",
       "[5 rows x 16 columns]"
      ]
     },
     "execution_count": 15,
     "metadata": {
      "tags": []
     },
     "output_type": "execute_result"
    }
   ],
   "source": [
    "X_num.head()"
   ]
  },
  {
   "cell_type": "code",
   "execution_count": 16,
   "metadata": {
    "executionInfo": {
     "elapsed": 68,
     "status": "ok",
     "timestamp": 1622763772483,
     "user": {
      "displayName": "Isabelle DeMartin",
      "photoUrl": "",
      "userId": "16254610347000360182"
     },
     "user_tz": 420
    },
    "id": "vTQwHEynQugO"
   },
   "outputs": [],
   "source": [
    "le=LabelEncoder()"
   ]
  },
  {
   "cell_type": "code",
   "execution_count": 17,
   "metadata": {
    "executionInfo": {
     "elapsed": 68,
     "status": "ok",
     "timestamp": 1622763772484,
     "user": {
      "displayName": "Isabelle DeMartin",
      "photoUrl": "",
      "userId": "16254610347000360182"
     },
     "user_tz": 420
    },
    "id": "ibjS6Ny0Rv4C"
   },
   "outputs": [],
   "source": [
    "X_cat[\"State\"]= le.fit_transform(X_cat[\"State\"])"
   ]
  },
  {
   "cell_type": "code",
   "execution_count": 18,
   "metadata": {
    "colab": {
     "base_uri": "https://localhost:8080/",
     "height": 419
    },
    "executionInfo": {
     "elapsed": 69,
     "status": "ok",
     "timestamp": 1622763772488,
     "user": {
      "displayName": "Isabelle DeMartin",
      "photoUrl": "",
      "userId": "16254610347000360182"
     },
     "user_tz": 420
    },
    "id": "MYGpdDW6SC2O",
    "outputId": "c30cc61f-ee88-4e0e-8471-154d5c85dedf"
   },
   "outputs": [
    {
     "data": {
      "text/html": [
       "<div>\n",
       "<style scoped>\n",
       "    .dataframe tbody tr th:only-of-type {\n",
       "        vertical-align: middle;\n",
       "    }\n",
       "\n",
       "    .dataframe tbody tr th {\n",
       "        vertical-align: top;\n",
       "    }\n",
       "\n",
       "    .dataframe thead th {\n",
       "        text-align: right;\n",
       "    }\n",
       "</style>\n",
       "<table border=\"1\" class=\"dataframe\">\n",
       "  <thead>\n",
       "    <tr style=\"text-align: right;\">\n",
       "      <th></th>\n",
       "      <th>State</th>\n",
       "    </tr>\n",
       "  </thead>\n",
       "  <tbody>\n",
       "    <tr>\n",
       "      <th>0</th>\n",
       "      <td>1</td>\n",
       "    </tr>\n",
       "    <tr>\n",
       "      <th>1</th>\n",
       "      <td>1</td>\n",
       "    </tr>\n",
       "    <tr>\n",
       "      <th>2</th>\n",
       "      <td>1</td>\n",
       "    </tr>\n",
       "    <tr>\n",
       "      <th>3</th>\n",
       "      <td>1</td>\n",
       "    </tr>\n",
       "    <tr>\n",
       "      <th>4</th>\n",
       "      <td>1</td>\n",
       "    </tr>\n",
       "    <tr>\n",
       "      <th>...</th>\n",
       "      <td>...</td>\n",
       "    </tr>\n",
       "    <tr>\n",
       "      <th>245</th>\n",
       "      <td>49</td>\n",
       "    </tr>\n",
       "    <tr>\n",
       "      <th>246</th>\n",
       "      <td>49</td>\n",
       "    </tr>\n",
       "    <tr>\n",
       "      <th>247</th>\n",
       "      <td>49</td>\n",
       "    </tr>\n",
       "    <tr>\n",
       "      <th>248</th>\n",
       "      <td>49</td>\n",
       "    </tr>\n",
       "    <tr>\n",
       "      <th>249</th>\n",
       "      <td>49</td>\n",
       "    </tr>\n",
       "  </tbody>\n",
       "</table>\n",
       "<p>250 rows × 1 columns</p>\n",
       "</div>"
      ],
      "text/plain": [
       "     State\n",
       "0        1\n",
       "1        1\n",
       "2        1\n",
       "3        1\n",
       "4        1\n",
       "..     ...\n",
       "245     49\n",
       "246     49\n",
       "247     49\n",
       "248     49\n",
       "249     49\n",
       "\n",
       "[250 rows x 1 columns]"
      ]
     },
     "execution_count": 18,
     "metadata": {
      "tags": []
     },
     "output_type": "execute_result"
    }
   ],
   "source": [
    "X_cat"
   ]
  },
  {
   "cell_type": "code",
   "execution_count": 19,
   "metadata": {
    "colab": {
     "base_uri": "https://localhost:8080/",
     "height": 224
    },
    "executionInfo": {
     "elapsed": 74,
     "status": "ok",
     "timestamp": 1622763772497,
     "user": {
      "displayName": "Isabelle DeMartin",
      "photoUrl": "",
      "userId": "16254610347000360182"
     },
     "user_tz": 420
    },
    "id": "3qENDkeESRZ5",
    "outputId": "28bd35f5-4bec-4c1d-9f04-de5be69cc64f"
   },
   "outputs": [
    {
     "data": {
      "text/html": [
       "<div>\n",
       "<style scoped>\n",
       "    .dataframe tbody tr th:only-of-type {\n",
       "        vertical-align: middle;\n",
       "    }\n",
       "\n",
       "    .dataframe tbody tr th {\n",
       "        vertical-align: top;\n",
       "    }\n",
       "\n",
       "    .dataframe thead th {\n",
       "        text-align: right;\n",
       "    }\n",
       "</style>\n",
       "<table border=\"1\" class=\"dataframe\">\n",
       "  <thead>\n",
       "    <tr style=\"text-align: right;\">\n",
       "      <th></th>\n",
       "      <th>State</th>\n",
       "      <th>Year</th>\n",
       "      <th>Population</th>\n",
       "      <th>PovertyCount</th>\n",
       "      <th>PovertyRate</th>\n",
       "      <th>UnemploymentRate</th>\n",
       "      <th>NoCompletedEducation</th>\n",
       "      <th>PopulationWithHighSchoolDiploma</th>\n",
       "      <th>PopulationWithAssociatesDegree</th>\n",
       "      <th>PopulationWithBachelorsDegree</th>\n",
       "      <th>WhitePop</th>\n",
       "      <th>BlackPop</th>\n",
       "      <th>NativeAmericanPop</th>\n",
       "      <th>AsianPop</th>\n",
       "      <th>NativeHawaiianPop</th>\n",
       "      <th>HispanicPop</th>\n",
       "      <th>TwoOrMoreRacesPop</th>\n",
       "    </tr>\n",
       "  </thead>\n",
       "  <tbody>\n",
       "    <tr>\n",
       "      <th>0</th>\n",
       "      <td>1</td>\n",
       "      <td>2019</td>\n",
       "      <td>4876250.0</td>\n",
       "      <td>795989.0</td>\n",
       "      <td>16.323794</td>\n",
       "      <td>2.708946</td>\n",
       "      <td>40837.0</td>\n",
       "      <td>841716.0</td>\n",
       "      <td>282316.0</td>\n",
       "      <td>529178.0</td>\n",
       "      <td>3320247.0</td>\n",
       "      <td>1299048.0</td>\n",
       "      <td>25565.0</td>\n",
       "      <td>66270.0</td>\n",
       "      <td>2238.0</td>\n",
       "      <td>208626.0</td>\n",
       "      <td>92220.0</td>\n",
       "    </tr>\n",
       "    <tr>\n",
       "      <th>1</th>\n",
       "      <td>1</td>\n",
       "      <td>2018</td>\n",
       "      <td>4864680.0</td>\n",
       "      <td>829400.0</td>\n",
       "      <td>17.049426</td>\n",
       "      <td>3.040241</td>\n",
       "      <td>41240.0</td>\n",
       "      <td>838776.0</td>\n",
       "      <td>273493.0</td>\n",
       "      <td>515443.0</td>\n",
       "      <td>3317453.0</td>\n",
       "      <td>1293186.0</td>\n",
       "      <td>25576.0</td>\n",
       "      <td>64609.0</td>\n",
       "      <td>2182.0</td>\n",
       "      <td>203146.0</td>\n",
       "      <td>91619.0</td>\n",
       "    </tr>\n",
       "    <tr>\n",
       "      <th>2</th>\n",
       "      <td>1</td>\n",
       "      <td>2017</td>\n",
       "      <td>4864680.0</td>\n",
       "      <td>829400.0</td>\n",
       "      <td>17.049426</td>\n",
       "      <td>3.040241</td>\n",
       "      <td>41240.0</td>\n",
       "      <td>838776.0</td>\n",
       "      <td>273493.0</td>\n",
       "      <td>515443.0</td>\n",
       "      <td>3317453.0</td>\n",
       "      <td>1293186.0</td>\n",
       "      <td>25576.0</td>\n",
       "      <td>64609.0</td>\n",
       "      <td>2182.0</td>\n",
       "      <td>203146.0</td>\n",
       "      <td>91619.0</td>\n",
       "    </tr>\n",
       "    <tr>\n",
       "      <th>3</th>\n",
       "      <td>1</td>\n",
       "      <td>2016</td>\n",
       "      <td>4841164.0</td>\n",
       "      <td>868666.0</td>\n",
       "      <td>17.943329</td>\n",
       "      <td>3.810633</td>\n",
       "      <td>42577.0</td>\n",
       "      <td>828205.0</td>\n",
       "      <td>258502.0</td>\n",
       "      <td>492382.0</td>\n",
       "      <td>3325037.0</td>\n",
       "      <td>1282053.0</td>\n",
       "      <td>23919.0</td>\n",
       "      <td>60744.0</td>\n",
       "      <td>2008.0</td>\n",
       "      <td>193503.0</td>\n",
       "      <td>85412.0</td>\n",
       "    </tr>\n",
       "    <tr>\n",
       "      <th>4</th>\n",
       "      <td>1</td>\n",
       "      <td>2015</td>\n",
       "      <td>4830620.0</td>\n",
       "      <td>887260.0</td>\n",
       "      <td>18.367415</td>\n",
       "      <td>4.287172</td>\n",
       "      <td>41876.0</td>\n",
       "      <td>826272.0</td>\n",
       "      <td>251335.0</td>\n",
       "      <td>478812.0</td>\n",
       "      <td>3325464.0</td>\n",
       "      <td>1276544.0</td>\n",
       "      <td>23850.0</td>\n",
       "      <td>59599.0</td>\n",
       "      <td>2439.0</td>\n",
       "      <td>193492.0</td>\n",
       "      <td>81646.0</td>\n",
       "    </tr>\n",
       "  </tbody>\n",
       "</table>\n",
       "</div>"
      ],
      "text/plain": [
       "   State  Year  Population  ...  NativeHawaiianPop  HispanicPop  TwoOrMoreRacesPop\n",
       "0      1  2019   4876250.0  ...             2238.0     208626.0            92220.0\n",
       "1      1  2018   4864680.0  ...             2182.0     203146.0            91619.0\n",
       "2      1  2017   4864680.0  ...             2182.0     203146.0            91619.0\n",
       "3      1  2016   4841164.0  ...             2008.0     193503.0            85412.0\n",
       "4      1  2015   4830620.0  ...             2439.0     193492.0            81646.0\n",
       "\n",
       "[5 rows x 17 columns]"
      ]
     },
     "execution_count": 19,
     "metadata": {
      "tags": []
     },
     "output_type": "execute_result"
    }
   ],
   "source": [
    "X_combined=pd.concat([X_cat, X_num],axis=1)\n",
    "X_combined.head()"
   ]
  },
  {
   "cell_type": "code",
   "execution_count": 20,
   "metadata": {
    "colab": {
     "base_uri": "https://localhost:8080/"
    },
    "executionInfo": {
     "elapsed": 473,
     "status": "ok",
     "timestamp": 1622763772907,
     "user": {
      "displayName": "Isabelle DeMartin",
      "photoUrl": "",
      "userId": "16254610347000360182"
     },
     "user_tz": 420
    },
    "id": "euP4cL_SUUQR",
    "outputId": "5f45108b-d517-42ed-e926-2cc178d3ee90"
   },
   "outputs": [
    {
     "data": {
      "text/plain": [
       "0      7.89\n",
       "1      6.94\n",
       "2      7.38\n",
       "3      9.03\n",
       "4      8.31\n",
       "       ... \n",
       "245       7\n",
       "246    5.33\n",
       "247    4.64\n",
       "248    5.01\n",
       "249    4.89\n",
       "Name: Rate, Length: 250, dtype: object"
      ]
     },
     "execution_count": 20,
     "metadata": {
      "tags": []
     },
     "output_type": "execute_result"
    }
   ],
   "source": [
    "y[\"Rate\"]"
   ]
  },
  {
   "cell_type": "markdown",
   "metadata": {
    "id": "bWHUW4dYUaPp"
   },
   "source": [
    "train test split "
   ]
  },
  {
   "cell_type": "code",
   "execution_count": 21,
   "metadata": {
    "colab": {
     "base_uri": "https://localhost:8080/",
     "height": 224
    },
    "executionInfo": {
     "elapsed": 100,
     "status": "ok",
     "timestamp": 1622763772914,
     "user": {
      "displayName": "Isabelle DeMartin",
      "photoUrl": "",
      "userId": "16254610347000360182"
     },
     "user_tz": 420
    },
    "id": "FhJZjbYbUdQO",
    "outputId": "e59d3632-f963-4de8-a7e4-eb72659bc73c"
   },
   "outputs": [
    {
     "data": {
      "text/html": [
       "<div>\n",
       "<style scoped>\n",
       "    .dataframe tbody tr th:only-of-type {\n",
       "        vertical-align: middle;\n",
       "    }\n",
       "\n",
       "    .dataframe tbody tr th {\n",
       "        vertical-align: top;\n",
       "    }\n",
       "\n",
       "    .dataframe thead th {\n",
       "        text-align: right;\n",
       "    }\n",
       "</style>\n",
       "<table border=\"1\" class=\"dataframe\">\n",
       "  <thead>\n",
       "    <tr style=\"text-align: right;\">\n",
       "      <th></th>\n",
       "      <th>State</th>\n",
       "      <th>Year</th>\n",
       "      <th>Population</th>\n",
       "      <th>PovertyCount</th>\n",
       "      <th>PovertyRate</th>\n",
       "      <th>UnemploymentRate</th>\n",
       "      <th>NoCompletedEducation</th>\n",
       "      <th>PopulationWithHighSchoolDiploma</th>\n",
       "      <th>PopulationWithAssociatesDegree</th>\n",
       "      <th>PopulationWithBachelorsDegree</th>\n",
       "      <th>WhitePop</th>\n",
       "      <th>BlackPop</th>\n",
       "      <th>NativeAmericanPop</th>\n",
       "      <th>AsianPop</th>\n",
       "      <th>NativeHawaiianPop</th>\n",
       "      <th>HispanicPop</th>\n",
       "      <th>TwoOrMoreRacesPop</th>\n",
       "    </tr>\n",
       "  </thead>\n",
       "  <tbody>\n",
       "    <tr>\n",
       "      <th>84</th>\n",
       "      <td>16</td>\n",
       "      <td>2015</td>\n",
       "      <td>4397353.0</td>\n",
       "      <td>805841.0</td>\n",
       "      <td>18.325593</td>\n",
       "      <td>3.963930</td>\n",
       "      <td>32837.0</td>\n",
       "      <td>788112.0</td>\n",
       "      <td>221409.0</td>\n",
       "      <td>386554.0</td>\n",
       "      <td>3851591.0</td>\n",
       "      <td>347034.0</td>\n",
       "      <td>9063.0</td>\n",
       "      <td>55483.0</td>\n",
       "      <td>2197.0</td>\n",
       "      <td>143481.0</td>\n",
       "      <td>90836.0</td>\n",
       "    </tr>\n",
       "    <tr>\n",
       "      <th>125</th>\n",
       "      <td>25</td>\n",
       "      <td>2019</td>\n",
       "      <td>1050649.0</td>\n",
       "      <td>134605.0</td>\n",
       "      <td>12.811605</td>\n",
       "      <td>2.047592</td>\n",
       "      <td>3154.0</td>\n",
       "      <td>175082.0</td>\n",
       "      <td>66951.0</td>\n",
       "      <td>155230.0</td>\n",
       "      <td>930204.0</td>\n",
       "      <td>5303.0</td>\n",
       "      <td>66839.0</td>\n",
       "      <td>8259.0</td>\n",
       "      <td>807.0</td>\n",
       "      <td>40314.0</td>\n",
       "      <td>32161.0</td>\n",
       "    </tr>\n",
       "    <tr>\n",
       "      <th>167</th>\n",
       "      <td>27</td>\n",
       "      <td>2017</td>\n",
       "      <td>752201.0</td>\n",
       "      <td>79270.0</td>\n",
       "      <td>10.538407</td>\n",
       "      <td>1.553973</td>\n",
       "      <td>3019.0</td>\n",
       "      <td>113235.0</td>\n",
       "      <td>67212.0</td>\n",
       "      <td>105552.0</td>\n",
       "      <td>655268.0</td>\n",
       "      <td>20445.0</td>\n",
       "      <td>39462.0</td>\n",
       "      <td>10814.0</td>\n",
       "      <td>378.0</td>\n",
       "      <td>26529.0</td>\n",
       "      <td>18306.0</td>\n",
       "    </tr>\n",
       "    <tr>\n",
       "      <th>245</th>\n",
       "      <td>49</td>\n",
       "      <td>2019</td>\n",
       "      <td>581024.0</td>\n",
       "      <td>62257.0</td>\n",
       "      <td>10.715048</td>\n",
       "      <td>2.331057</td>\n",
       "      <td>1881.0</td>\n",
       "      <td>93507.0</td>\n",
       "      <td>43761.0</td>\n",
       "      <td>68269.0</td>\n",
       "      <td>531304.0</td>\n",
       "      <td>5582.0</td>\n",
       "      <td>14164.0</td>\n",
       "      <td>5025.0</td>\n",
       "      <td>596.0</td>\n",
       "      <td>57341.0</td>\n",
       "      <td>15521.0</td>\n",
       "    </tr>\n",
       "    <tr>\n",
       "      <th>109</th>\n",
       "      <td>21</td>\n",
       "      <td>2015</td>\n",
       "      <td>9900571.0</td>\n",
       "      <td>1616870.0</td>\n",
       "      <td>16.331078</td>\n",
       "      <td>4.825439</td>\n",
       "      <td>72158.0</td>\n",
       "      <td>1722171.0</td>\n",
       "      <td>595198.0</td>\n",
       "      <td>1094936.0</td>\n",
       "      <td>7823875.0</td>\n",
       "      <td>1381388.0</td>\n",
       "      <td>53951.0</td>\n",
       "      <td>268766.0</td>\n",
       "      <td>2083.0</td>\n",
       "      <td>467021.0</td>\n",
       "      <td>261324.0</td>\n",
       "    </tr>\n",
       "  </tbody>\n",
       "</table>\n",
       "</div>"
      ],
      "text/plain": [
       "     State  Year  Population  ...  NativeHawaiianPop  HispanicPop  TwoOrMoreRacesPop\n",
       "84      16  2015   4397353.0  ...             2197.0     143481.0            90836.0\n",
       "125     25  2019   1050649.0  ...              807.0      40314.0            32161.0\n",
       "167     27  2017    752201.0  ...              378.0      26529.0            18306.0\n",
       "245     49  2019    581024.0  ...              596.0      57341.0            15521.0\n",
       "109     21  2015   9900571.0  ...             2083.0     467021.0           261324.0\n",
       "\n",
       "[5 rows x 17 columns]"
      ]
     },
     "execution_count": 21,
     "metadata": {
      "tags": []
     },
     "output_type": "execute_result"
    }
   ],
   "source": [
    "from sklearn.model_selection import train_test_split\n",
    "X_train, X_test, y_train, y_test = train_test_split(X_combined, y, random_state=42)\n",
    "X_train.head()"
   ]
  },
  {
   "cell_type": "code",
   "execution_count": 22,
   "metadata": {
    "colab": {
     "base_uri": "https://localhost:8080/"
    },
    "executionInfo": {
     "elapsed": 99,
     "status": "ok",
     "timestamp": 1622763772916,
     "user": {
      "displayName": "Isabelle DeMartin",
      "photoUrl": "",
      "userId": "16254610347000360182"
     },
     "user_tz": 420
    },
    "id": "VhtVCnPSUwtn",
    "outputId": "4437cbc9-826f-45b1-e18f-023cf9e21f8c"
   },
   "outputs": [
    {
     "data": {
      "text/plain": [
       "LinearRegression(copy_X=True, fit_intercept=True, n_jobs=None, normalize=False)"
      ]
     },
     "execution_count": 22,
     "metadata": {
      "tags": []
     },
     "output_type": "execute_result"
    }
   ],
   "source": [
    "from sklearn.linear_model import LinearRegression\n",
    "model_lr=LinearRegression()\n",
    "model_lr.fit(X_train, y_train)"
   ]
  },
  {
   "cell_type": "code",
   "execution_count": 23,
   "metadata": {
    "colab": {
     "base_uri": "https://localhost:8080/"
    },
    "executionInfo": {
     "elapsed": 97,
     "status": "ok",
     "timestamp": 1622763772918,
     "user": {
      "displayName": "Isabelle DeMartin",
      "photoUrl": "",
      "userId": "16254610347000360182"
     },
     "user_tz": 420
    },
    "id": "m3UH5gCeVBxm",
    "outputId": "dd37f83d-c861-4e50-dc5b-3287766fcd71"
   },
   "outputs": [
    {
     "name": "stdout",
     "output_type": "stream",
     "text": [
      "Training Data Score: 0.6330406857040429\n",
      "Testing Data Score: 0.6870369983977309\n"
     ]
    }
   ],
   "source": [
    "print(f\"Training Data Score: {model_lr.score(X_train, y_train)}\")\n",
    "print(f\"Testing Data Score: {model_lr.score(X_test, y_test)}\")"
   ]
  },
  {
   "cell_type": "code",
   "execution_count": 24,
   "metadata": {
    "executionInfo": {
     "elapsed": 61,
     "status": "ok",
     "timestamp": 1622763772919,
     "user": {
      "displayName": "Isabelle DeMartin",
      "photoUrl": "",
      "userId": "16254610347000360182"
     },
     "user_tz": 420
    },
    "id": "C2GZrNpIsywl"
   },
   "outputs": [],
   "source": [
    "import joblib"
   ]
  },
  {
   "cell_type": "code",
   "execution_count": 25,
   "metadata": {
    "colab": {
     "base_uri": "https://localhost:8080/"
    },
    "executionInfo": {
     "elapsed": 310,
     "status": "ok",
     "timestamp": 1622763773169,
     "user": {
      "displayName": "Isabelle DeMartin",
      "photoUrl": "",
      "userId": "16254610347000360182"
     },
     "user_tz": 420
    },
    "id": "xc1cPCNctdL8",
    "outputId": "7a0eb728-f910-4fea-ebce-9e6746ef01e7"
   },
   "outputs": [
    {
     "data": {
      "text/plain": [
       "['/content/drive/MyDrive/model_lr_rate.sav']"
      ]
     },
     "execution_count": 25,
     "metadata": {
      "tags": []
     },
     "output_type": "execute_result"
    }
   ],
   "source": [
    "joblib.dump(model_lr,\"/content/drive/MyDrive/model_lr_rate.sav\")"
   ]
  },
  {
   "cell_type": "code",
   "execution_count": 39,
   "metadata": {
    "executionInfo": {
     "elapsed": 152,
     "status": "ok",
     "timestamp": 1622764854298,
     "user": {
      "displayName": "Isabelle DeMartin",
      "photoUrl": "",
      "userId": "16254610347000360182"
     },
     "user_tz": 420
    },
    "id": "eww6xzQStgQ1"
   },
   "outputs": [],
   "source": [
    "y_preds=model_lr.predict(X_test)"
   ]
  },
  {
   "cell_type": "markdown",
   "metadata": {
    "id": "ax-jov_wgFcv"
   },
   "source": [
    "# New Section"
   ]
  },
  {
   "cell_type": "code",
   "execution_count": 28,
   "metadata": {
    "colab": {
     "base_uri": "https://localhost:8080/"
    },
    "executionInfo": {
     "elapsed": 147,
     "status": "ok",
     "timestamp": 1622764137319,
     "user": {
      "displayName": "Isabelle DeMartin",
      "photoUrl": "",
      "userId": "16254610347000360182"
     },
     "user_tz": 420
    },
    "id": "HsQn0fLKRa92",
    "outputId": "f2a3cafc-c8eb-465e-8b85-06c3daf9ce44"
   },
   "outputs": [
    {
     "name": "stdout",
     "output_type": "stream",
     "text": [
      "coefficents [[-6.86491062e-03 -1.03234059e-01  1.96652759e-06 -2.85177166e-06\n",
      "   1.99746853e-01 -2.83719841e-01 -1.16094312e-05  2.51688726e-07\n",
      "   6.38802476e-07 -6.77078098e-06 -9.80304704e-07  1.65252504e-07\n",
      "  -2.80523356e-06 -8.25325303e-07 -7.52111034e-06  7.19574713e-08\n",
      "   3.93847982e-06]]\n"
     ]
    }
   ],
   "source": [
    "print(\"coefficents\",model_lr.coef_)"
   ]
  },
  {
   "cell_type": "code",
   "execution_count": 33,
   "metadata": {
    "colab": {
     "base_uri": "https://localhost:8080/"
    },
    "executionInfo": {
     "elapsed": 183,
     "status": "ok",
     "timestamp": 1622764296945,
     "user": {
      "displayName": "Isabelle DeMartin",
      "photoUrl": "",
      "userId": "16254610347000360182"
     },
     "user_tz": 420
    },
    "id": "bIowwm7ERrJ5",
    "outputId": "a75e805a-02dc-4b7e-b047-624acf3a4366"
   },
   "outputs": [
    {
     "data": {
      "text/plain": [
       "array([212.36692951])"
      ]
     },
     "execution_count": 33,
     "metadata": {
      "tags": []
     },
     "output_type": "execute_result"
    }
   ],
   "source": [
    "model_lr.intercept_"
   ]
  },
  {
   "cell_type": "code",
   "execution_count": 35,
   "metadata": {
    "colab": {
     "base_uri": "https://localhost:8080/"
    },
    "executionInfo": {
     "elapsed": 202,
     "status": "ok",
     "timestamp": 1622764514001,
     "user": {
      "displayName": "Isabelle DeMartin",
      "photoUrl": "",
      "userId": "16254610347000360182"
     },
     "user_tz": 420
    },
    "id": "LyxXIvKFSIaX",
    "outputId": "61c8210b-1a33-41bc-9473-f09a6f1284ea"
   },
   "outputs": [
    {
     "data": {
      "text/plain": [
       "Index(['State', 'Year', 'Population', 'PovertyCount', 'PovertyRate',\n",
       "       'UnemploymentRate', 'NoCompletedEducation',\n",
       "       'PopulationWithHighSchoolDiploma', 'PopulationWithAssociatesDegree',\n",
       "       'PopulationWithBachelorsDegree', 'WhitePop', 'BlackPop',\n",
       "       'NativeAmericanPop', 'AsianPop', 'NativeHawaiianPop', 'HispanicPop',\n",
       "       'TwoOrMoreRacesPop'],\n",
       "      dtype='object')"
      ]
     },
     "execution_count": 35,
     "metadata": {
      "tags": []
     },
     "output_type": "execute_result"
    }
   ],
   "source": [
    "X_test.columns"
   ]
  },
  {
   "cell_type": "code",
   "execution_count": 79,
   "metadata": {
    "executionInfo": {
     "elapsed": 172,
     "status": "ok",
     "timestamp": 1622766592441,
     "user": {
      "displayName": "Isabelle DeMartin",
      "photoUrl": "",
      "userId": "16254610347000360182"
     },
     "user_tz": 420
    },
    "id": "7g2KpIR7TB41"
   },
   "outputs": [],
   "source": [
    "import matplotlib.pyplot as plt\n",
    "import numpy as np"
   ]
  },
  {
   "cell_type": "code",
   "execution_count": 82,
   "metadata": {
    "colab": {
     "base_uri": "https://localhost:8080/",
     "height": 296
    },
    "executionInfo": {
     "elapsed": 381,
     "status": "ok",
     "timestamp": 1622766676480,
     "user": {
      "displayName": "Isabelle DeMartin",
      "photoUrl": "",
      "userId": "16254610347000360182"
     },
     "user_tz": 420
    },
    "id": "3HA3XTEGTzy1",
    "outputId": "381be715-8e06-43fe-85de-d9e4e30623a8"
   },
   "outputs": [
    {
     "data": {
      "text/plain": [
       "Text(0, 0.5, 'Infant Mortality Rate')"
      ]
     },
     "execution_count": 82,
     "metadata": {
      "tags": []
     },
     "output_type": "execute_result"
    },
    {
     "data": {
      "image/png": "[encoded data removed]",
      "text/plain": [
       "<Figure size 432x288 with 1 Axes>"
      ]
     },
     "metadata": {
      "needs_background": "light",
      "tags": []
     },
     "output_type": "display_data"
    }
   ],
   "source": [
    "x=X_test[\"BlackPop\"]\n",
    "y=y_test[\"Rate\"].astype(float)\n",
    "\n",
    "plt.scatter(x,y, color=\"black\")\n",
    "m,b=np.polyfit(x,y,1)\n",
    "plt.plot(x,m*x+b, color=\"blue\", linewidth=2)\n",
    "plt.xlabel(\"Black Population\")\n",
    "plt.ylabel(\"Infant Mortality Rate\")"
   ]
  },
  {
   "cell_type": "code",
   "execution_count": 83,
   "metadata": {
    "colab": {
     "base_uri": "https://localhost:8080/",
     "height": 296
    },
    "executionInfo": {
     "elapsed": 464,
     "status": "ok",
     "timestamp": 1622766805812,
     "user": {
      "displayName": "Isabelle DeMartin",
      "photoUrl": "",
      "userId": "16254610347000360182"
     },
     "user_tz": 420
    },
    "id": "zXvSWXoGWgwI",
    "outputId": "4162c4e2-a093-427d-d8c7-8ebedcb9355c"
   },
   "outputs": [
    {
     "data": {
      "text/plain": [
       "Text(0, 0.5, 'Infant Mortality Rate')"
      ]
     },
     "execution_count": 83,
     "metadata": {
      "tags": []
     },
     "output_type": "execute_result"
    },
    {
     "data": {
      "image/png": "[encoded data removed]",
      "text/plain": [
       "<Figure size 432x288 with 1 Axes>"
      ]
     },
     "metadata": {
      "needs_background": "light",
      "tags": []
     },
     "output_type": "display_data"
    }
   ],
   "source": [
    "x=X_test[\"PopulationWithHighSchoolDiploma\"]\n",
    "y=y_test[\"Rate\"].astype(float)\n",
    "\n",
    "plt.scatter(x,y, color=\"black\")\n",
    "m,b=np.polyfit(x,y,1)\n",
    "plt.plot(x,m*x+b, color=\"red\", linewidth=2)\n",
    "plt.xlabel(\"Population with HighSchool Diploma\")\n",
    "plt.ylabel(\"Infant Mortality Rate\")"
   ]
  },
  {
   "cell_type": "code",
   "execution_count": 85,
   "metadata": {
    "colab": {
     "base_uri": "https://localhost:8080/",
     "height": 296
    },
    "executionInfo": {
     "elapsed": 371,
     "status": "ok",
     "timestamp": 1622766888956,
     "user": {
      "displayName": "Isabelle DeMartin",
      "photoUrl": "",
      "userId": "16254610347000360182"
     },
     "user_tz": 420
    },
    "id": "8wsFcSN5bocb",
    "outputId": "007d5858-07c3-462c-919c-5fd9a9a01e8a"
   },
   "outputs": [
    {
     "data": {
      "text/plain": [
       "Text(0, 0.5, 'Infant Mortality Rate')"
      ]
     },
     "execution_count": 85,
     "metadata": {
      "tags": []
     },
     "output_type": "execute_result"
    },
    {
     "data": {
      "image/png": "[encoded data removed]",
      "text/plain": [
       "<Figure size 432x288 with 1 Axes>"
      ]
     },
     "metadata": {
      "needs_background": "light",
      "tags": []
     },
     "output_type": "display_data"
    }
   ],
   "source": [
    "x=X_test[\"PovertyRate\"]\n",
    "y=y_test[\"Rate\"].astype(float)\n",
    "\n",
    "plt.scatter(x,y, color=\"black\")\n",
    "m,b=np.polyfit(x,y,1)\n",
    "plt.plot(x,m*x+b, color=\"orange\", linewidth=2)\n",
    "plt.xlabel(\"PovertyRate\")\n",
    "plt.ylabel(\"Infant Mortality Rate\")"
   ]
  },
  {
   "cell_type": "code",
   "execution_count": 73,
   "metadata": {
    "colab": {
     "base_uri": "https://localhost:8080/"
    },
    "executionInfo": {
     "elapsed": 142,
     "status": "ok",
     "timestamp": 1622766232845,
     "user": {
      "displayName": "Isabelle DeMartin",
      "photoUrl": "",
      "userId": "16254610347000360182"
     },
     "user_tz": 420
    },
    "id": "xMueCFHtZ3Jb",
    "outputId": "2e9e9b46-8056-4d65-9d1e-dc468879fabc"
   },
   "outputs": [
    {
     "data": {
      "text/plain": [
       "(63, 1)"
      ]
     },
     "execution_count": 73,
     "metadata": {
      "tags": []
     },
     "output_type": "execute_result"
    }
   ],
   "source": [
    "y_preds.shape"
   ]
  },
  {
   "cell_type": "code",
   "execution_count": 41,
   "metadata": {
    "colab": {
     "base_uri": "https://localhost:8080/",
     "height": 567
    },
    "executionInfo": {
     "elapsed": 372,
     "status": "ok",
     "timestamp": 1622764912473,
     "user": {
      "displayName": "Isabelle DeMartin",
      "photoUrl": "",
      "userId": "16254610347000360182"
     },
     "user_tz": 420
    },
    "id": "qJ8_DA7AUAzE",
    "outputId": "557fd900-079a-4b7c-fa61-23f4c017fb13"
   },
   "outputs": [
    {
     "data": {
      "text/plain": [
       "[<matplotlib.lines.Line2D at 0x7fde90fa0550>,\n",
       " <matplotlib.lines.Line2D at 0x7fde90fa0750>,\n",
       " <matplotlib.lines.Line2D at 0x7fde90fa0910>,\n",
       " <matplotlib.lines.Line2D at 0x7fde90fa0ad0>,\n",
       " <matplotlib.lines.Line2D at 0x7fde90fa0c90>,\n",
       " <matplotlib.lines.Line2D at 0x7fde90fa0e10>,\n",
       " <matplotlib.lines.Line2D at 0x7fde90fa8090>,\n",
       " <matplotlib.lines.Line2D at 0x7fde90fa8250>,\n",
       " <matplotlib.lines.Line2D at 0x7fde90fa8410>,\n",
       " <matplotlib.lines.Line2D at 0x7fde90fa0e50>,\n",
       " <matplotlib.lines.Line2D at 0x7fde90fa8750>,\n",
       " <matplotlib.lines.Line2D at 0x7fde90fa8910>,\n",
       " <matplotlib.lines.Line2D at 0x7fde90fa8ad0>,\n",
       " <matplotlib.lines.Line2D at 0x7fde90fa8c90>,\n",
       " <matplotlib.lines.Line2D at 0x7fde90fa8e50>,\n",
       " <matplotlib.lines.Line2D at 0x7fde90fa8fd0>,\n",
       " <matplotlib.lines.Line2D at 0x7fde90fab210>]"
      ]
     },
     "execution_count": 41,
     "metadata": {
      "tags": []
     },
     "output_type": "execute_result"
    },
    {
     "data": {
      "image/png": "[encoded data removed]",
      "text/plain": [
       "<Figure size 432x288 with 1 Axes>"
      ]
     },
     "metadata": {
      "needs_background": "light",
      "tags": []
     },
     "output_type": "display_data"
    }
   ],
   "source": [
    "plt.plot(X_test, y_preds, color=\"blue\", linewidth=2)"
   ]
  },
  {
   "cell_type": "code",
   "execution_count": 49,
   "metadata": {
    "colab": {
     "base_uri": "https://localhost:8080/"
    },
    "executionInfo": {
     "elapsed": 142,
     "status": "ok",
     "timestamp": 1622765041391,
     "user": {
      "displayName": "Isabelle DeMartin",
      "photoUrl": "",
      "userId": "16254610347000360182"
     },
     "user_tz": 420
    },
    "id": "qw4YugmpU2C0",
    "outputId": "80db4c6a-507f-4b3d-a346-f3e366578c64"
   },
   "outputs": [
    {
     "data": {
      "text/plain": [
       "Rate \n",
       "False    63\n",
       "dtype: int64"
      ]
     },
     "execution_count": 49,
     "metadata": {
      "tags": []
     },
     "output_type": "execute_result"
    }
   ],
   "source": [
    "y_test.isnull().value_counts()"
   ]
  },
  {
   "cell_type": "code",
   "execution_count": null,
   "metadata": {
    "id": "mMAEyn1_U-EV"
   },
   "outputs": [],
   "source": []
  }
 ],
 "metadata": {
  "colab": {
   "authorship_tag": "ABX9TyMTgc84Jti7MHLfsgunQgAv",
   "collapsed_sections": [],
   "mount_file_id": "1hgEj5wZIVgD2HagP0FJPt4OpQ1Sr1Dfn",
   "name": "InfantMortalityMachineLearning.ipynb",
   "provenance": []
  },
  "kernelspec": {
   "display_name": "Python 3",
   "language": "python",
   "name": "python3"
  },
  "language_info": {
   "codemirror_mode": {
    "name": "ipython",
    "version": 3
   },
   "file_extension": ".py",
   "mimetype": "text/x-python",
   "name": "python",
   "nbconvert_exporter": "python",
   "pygments_lexer": "ipython3",
   "version": "3.6.10"
  }
 },
 "nbformat": 4,
 "nbformat_minor": 1
}
